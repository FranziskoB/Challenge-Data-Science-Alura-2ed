{
  "nbformat": 4,
  "nbformat_minor": 0,
  "metadata": {
    "colab": {
      "provenance": [],
      "mount_file_id": "1b84nczAH6IJS1X3nV4c4akEL6LHqcwft",
      "authorship_tag": "ABX9TyPfGoZzK3prnujiWE/f8ZPc",
      "include_colab_link": true
    },
    "kernelspec": {
      "name": "python3",
      "display_name": "Python 3"
    },
    "language_info": {
      "name": "python"
    }
  },
  "cells": [
    {
      "cell_type": "markdown",
      "metadata": {
        "id": "view-in-github",
        "colab_type": "text"
      },
      "source": [
        "<a href=\"https://colab.research.google.com/github/FranziskoB/Challenge-Data-Science-Alura-2ed/blob/main/Semana_2.ipynb\" target=\"_parent\"><img src=\"https://colab.research.google.com/assets/colab-badge.svg\" alt=\"Open In Colab\"/></a>"
      ]
    },
    {
      "cell_type": "markdown",
      "source": [
        "#Desafio Data Science Alura"
      ],
      "metadata": {
        "id": "hdVDcQwmFlUB"
      }
    },
    {
      "cell_type": "markdown",
      "source": [
        "A imobiliária InsightPlaces, situada na cidade do Rio de Janeiro, está enfrentando dificuldades para alugar e vender imóveis. Em uma pesquisa de como empresas semelhantes operam no mercado, a InsightPlaces percebeu que esse problema pode estar relacionado aos valores dos imóveis e às recomendações realizadas em seu site.\n",
        "\n",
        "Dentro desse contexto, como podemos definir de forma eficiente os preços dos imóveis lidando com grandes volumes de dados? É importante recomendar imóveis utilizando outro critério? O que precisa ser feito?\n",
        "\n",
        "Você faz parte do time de Ciência de Dados e Big Data da InsightPlaces e ficou responsável por auxiliar no processo de análise de dados dos imóveis, que estão localizados em alguns bairros da cidade do Rio de Janeiro.\n",
        "\n",
        "Esse projeto tem algumas etapas como: ler e fazer o tratamento do histórico dos preços de imóveis no Rio de Janeiro, construir um modelo de regressão para precificar imóveis e, por último, criar um recomendador de imóveis. Para cada uma dessas etapas, vamos utilizar a ferramenta PySpark, que oferece uma melhor performance ao trabalharmos com grandes volumes de dados."
      ],
      "metadata": {
        "id": "oceUSU6oGMuB"
      }
    },
    {
      "cell_type": "markdown",
      "source": [
        "##Semana 2"
      ],
      "metadata": {
        "id": "5QdxGRINHxZo"
      }
    },
    {
      "cell_type": "markdown",
      "source": [
        "Tratamento dos dados e criação de um modelo de regressão com PySpark"
      ],
      "metadata": {
        "id": "6elKyL3GH2TI"
      }
    },
    {
      "cell_type": "markdown",
      "source": [
        "### Configurando o Spark no Google Colab"
      ],
      "metadata": {
        "id": "IUTMjMo9JSJ5"
      }
    },
    {
      "cell_type": "code",
      "execution_count": 1,
      "metadata": {
        "id": "4YDKwhZDFUJu"
      },
      "outputs": [],
      "source": [
        "# instalar as dependências\n",
        "!apt-get update -qq\n",
        "!apt-get install openjdk-8-jdk-headless -qq > /dev/null\n",
        "!wget -q https://archive.apache.org/dist/spark/spark-3.1.2/spark-3.1.2-bin-hadoop2.7.tgz\n",
        "!tar xf spark-3.1.2-bin-hadoop2.7.tgz\n",
        "!pip install -q findspark"
      ]
    },
    {
      "cell_type": "code",
      "source": [
        "import os\n",
        "os.environ[\"JAVA_HOME\"] = \"/usr/lib/jvm/java-8-openjdk-amd64\"\n",
        "os.environ[\"SPARK_HOME\"] = \"/content/spark-3.1.2-bin-hadoop2.7\""
      ],
      "metadata": {
        "id": "s7JLBTA_JhTO"
      },
      "execution_count": 2,
      "outputs": []
    },
    {
      "cell_type": "code",
      "source": [
        "import findspark\n",
        "findspark.init()"
      ],
      "metadata": {
        "id": "VlUZokkYJjRr"
      },
      "execution_count": 3,
      "outputs": []
    },
    {
      "cell_type": "markdown",
      "source": [
        "#### Acessando o Spark UI (Google Colab)n"
      ],
      "metadata": {
        "id": "2SDU7MT8J7MG"
      }
    },
    {
      "cell_type": "markdown",
      "source": [
        "Uma SparkSession pode ser utilizada para criar DataFrames, registrar DataFrames como tabelas, executar consultas SQL em tabelas, armazenar em cache e ler arquivos parquet."
      ],
      "metadata": {
        "id": "Ri807bEgLHxD"
      }
    },
    {
      "cell_type": "code",
      "source": [
        "from pyspark.sql import SparkSession\n",
        "\n",
        "spark = SparkSession.builder \\\n",
        "    .master('local[*]') \\\n",
        "    .appName(\"Iniciando com Spark\") \\\n",
        "    .config('spark.ui.port', '4050') \\\n",
        "    .getOrCreate()"
      ],
      "metadata": {
        "id": "kwHazMWSLMFx"
      },
      "execution_count": 4,
      "outputs": []
    },
    {
      "cell_type": "code",
      "source": [
        "!wget -q https://bin.equinox.io/c/4VmDzA7iaHb/ngrok-stable-linux-amd64.zip\n",
        "!unzip ngrok-stable-linux-amd64.zip"
      ],
      "metadata": {
        "id": "oKtYqA4ZLzC0",
        "colab": {
          "base_uri": "https://localhost:8080/"
        },
        "outputId": "f2123ac2-458b-45b7-ca20-298d29c1b29d"
      },
      "execution_count": 5,
      "outputs": [
        {
          "output_type": "stream",
          "name": "stdout",
          "text": [
            "Archive:  ngrok-stable-linux-amd64.zip\n",
            "  inflating: ngrok                   \n"
          ]
        }
      ]
    },
    {
      "cell_type": "code",
      "source": [
        "get_ipython().system_raw('./ngrok http 4050 &')"
      ],
      "metadata": {
        "id": "1k3PiqOxL0zt"
      },
      "execution_count": 6,
      "outputs": []
    },
    {
      "cell_type": "code",
      "source": [
        "!curl -s http://localhost:4040/api/tunnels"
      ],
      "metadata": {
        "id": "RB00qYEAL2v5",
        "colab": {
          "base_uri": "https://localhost:8080/"
        },
        "outputId": "29f5b9bd-1173-42ed-f6fa-0d53d4c7347e"
      },
      "execution_count": 7,
      "outputs": [
        {
          "output_type": "stream",
          "name": "stdout",
          "text": [
            "{\"tunnels\":[],\"uri\":\"/api/tunnels\"}\n"
          ]
        }
      ]
    },
    {
      "cell_type": "markdown",
      "source": [
        "### Carregamento de dados"
      ],
      "metadata": {
        "id": "7j6DGqUtMBJK"
      }
    },
    {
      "cell_type": "markdown",
      "source": [
        "Descrição de cada variável do dataset\n",
        "*   id ->\tCódigo de identificação do anúncio no sistema da InsightPlaces\n",
        "*   tipo_unidade ->\tTipo de imóvel (apartamento, casa e outros)\n",
        "*   tipo_uso ->\tTipo de uso do imóvel (residencial ou comercial)\n",
        "*   area_total ->\tÁrea total do imóvel (construção e terreno)\n",
        "*   area_util ->\tÁrea construída do imóvel\n",
        "*   quartos ->\tQuantidade de quartos do imóvel\n",
        "*   suites ->\tQuantidade de suítes do imóvel\n",
        "*   banheiros ->\tQuantidade de banheiros do imóvel\n",
        "*   vaga ->\tQuantidade de vagas de garagem do imóvel\n",
        "*   caracteristicas ->\tListagem de características do imóvel\n",
        "*   andar ->\tNúmero do andar do imóvel\n",
        "*   endereco ->\tInformações sobre o endereço do imóvel\n",
        "*   valores ->\tInformações sobre valores de venda e locação dos imóveis\n",
        "\n",
        "\n"
      ],
      "metadata": {
        "id": "P0FBSEpZMPAJ"
      }
    },
    {
      "cell_type": "code",
      "source": [
        "import zipfile\n",
        "import requests\n",
        "from io import BytesIO\n",
        "import os"
      ],
      "metadata": {
        "id": "zovo_23GP9Rn"
      },
      "execution_count": 8,
      "outputs": []
    },
    {
      "cell_type": "code",
      "source": [
        "os.makedirs(\"./dados\",exist_ok=True) # Criando uma pasta no google colab"
      ],
      "metadata": {
        "id": "dcn5ck4BMw_v"
      },
      "execution_count": 9,
      "outputs": []
    },
    {
      "cell_type": "code",
      "source": [
        "path = 'https://github.com/FranziskoB/Challenge-Data-Science-Alura-2ed/raw/main/dados/semana-2.zip' # Local do arquivo zip\n",
        "filebytes = BytesIO(\n",
        "    requests.get(path).content\n",
        ")\n",
        "myzip = zipfile.ZipFile(filebytes)\n",
        "myzip.extractall(\"./dados\") #Salvando os dados na pasta criada"
      ],
      "metadata": {
        "id": "AICZogr0MzOg"
      },
      "execution_count": 10,
      "outputs": []
    },
    {
      "cell_type": "code",
      "source": [
        "dados = spark.read.parquet(\"/content/dados/dataset_transformado_parquet\") # Importando os dados"
      ],
      "metadata": {
        "id": "kjiTYDiDRSYv"
      },
      "execution_count": 11,
      "outputs": []
    },
    {
      "cell_type": "code",
      "source": [
        "dados.count() # Número de registros carregados"
      ],
      "metadata": {
        "colab": {
          "base_uri": "https://localhost:8080/"
        },
        "id": "YCpZokXkSmk9",
        "outputId": "f54eb95a-66aa-4418-9a1f-2cb5be1d1330"
      },
      "execution_count": 12,
      "outputs": [
        {
          "output_type": "execute_result",
          "data": {
            "text/plain": [
              "66562"
            ]
          },
          "metadata": {},
          "execution_count": 12
        }
      ]
    },
    {
      "cell_type": "markdown",
      "source": [
        "### Visualizando os dados"
      ],
      "metadata": {
        "id": "QvqM0aI1aYWs"
      }
    },
    {
      "cell_type": "markdown",
      "source": [
        "Os primeiro 5 valores\n"
      ],
      "metadata": {
        "id": "hbHkujararcx"
      }
    },
    {
      "cell_type": "code",
      "source": [
        "dados.show(5)\n",
        "dados.printSchema()"
      ],
      "metadata": {
        "colab": {
          "base_uri": "https://localhost:8080/"
        },
        "id": "bhvowWkCa2sG",
        "outputId": "3ba19c71-86f4-41fa-dd2c-70593a61daf6"
      },
      "execution_count": 13,
      "outputs": [
        {
          "output_type": "stream",
          "name": "stdout",
          "text": [
            "+--------------------+-----+----------+---------+---------+--------------------+-------+------+------------+------------+-----------+----+------------+------------+----------+----+-----+------+\n",
            "|                  id|andar|area_total|area_util|banheiros|     caracteristicas|quartos|suites|tipo_anuncio|tipo_unidade|   tipo_uso|vaga|      bairro|        zona|condominio|iptu| tipo| valor|\n",
            "+--------------------+-----+----------+---------+---------+--------------------+-------+------+------------+------------+-----------+----+------------+------------+----------+----+-----+------+\n",
            "|03a386b6-7ab8-4ef...|    0|        43|       43|        1|[Churrasqueira, A...|      2|  null|       Usado| Apartamento|Residencial|   1|    Realengo|  Zona Oeste|       285|null|Venda| 22999|\n",
            "|1fe78d41-b8e0-4d2...|    0|        44|       44|        1|                  []|      2|     0|       Usado| Apartamento|Residencial|   0|       Irajá|  Zona Norte|       170|   0|Venda|110000|\n",
            "|1fa1c1e5-e98c-433...|    4|      null|       55|        1|                  []|      2|     0|       Usado| Apartamento|Residencial|   1|      Cosmos|  Zona Oeste|      null|null|Venda|115000|\n",
            "|a6ab01ae-3d40-40e...|    2|      null|       55|        1|                  []|      2|     0|       Usado| Apartamento|Residencial|   0|Tomás Coelho|  Zona Norte|      null|null|Venda|115000|\n",
            "|1d8ff7a2-16bd-4e3...|    0|      null|       50|        1|                  []|      1|  null|       Usado| Apartamento|Residencial|   0|      Centro|Zona Central|      1300|2679|Venda|125000|\n",
            "+--------------------+-----+----------+---------+---------+--------------------+-------+------+------------+------------+-----------+----+------------+------------+----------+----+-----+------+\n",
            "only showing top 5 rows\n",
            "\n",
            "root\n",
            " |-- id: string (nullable = true)\n",
            " |-- andar: long (nullable = true)\n",
            " |-- area_total: string (nullable = true)\n",
            " |-- area_util: string (nullable = true)\n",
            " |-- banheiros: long (nullable = true)\n",
            " |-- caracteristicas: array (nullable = true)\n",
            " |    |-- element: string (containsNull = true)\n",
            " |-- quartos: long (nullable = true)\n",
            " |-- suites: long (nullable = true)\n",
            " |-- tipo_anuncio: string (nullable = true)\n",
            " |-- tipo_unidade: string (nullable = true)\n",
            " |-- tipo_uso: string (nullable = true)\n",
            " |-- vaga: long (nullable = true)\n",
            " |-- bairro: string (nullable = true)\n",
            " |-- zona: string (nullable = true)\n",
            " |-- condominio: string (nullable = true)\n",
            " |-- iptu: string (nullable = true)\n",
            " |-- tipo: string (nullable = true)\n",
            " |-- valor: string (nullable = true)\n",
            "\n"
          ]
        }
      ]
    },
    {
      "cell_type": "markdown",
      "source": [
        "### Tratando os dados"
      ],
      "metadata": {
        "id": "jwjXMPyomlh9"
      }
    },
    {
      "cell_type": "markdown",
      "source": [
        "Convertendo colunas para integer e double"
      ],
      "metadata": {
        "id": "pQIM_zk1b2qg"
      }
    },
    {
      "cell_type": "code",
      "source": [
        "from pyspark.sql.types import IntegerType, DoubleType\n",
        "dados=dados\\\n",
        "    .withColumn('iptu', dados['iptu'].cast(DoubleType()))\\\n",
        "    .withColumn('valor', dados['valor'].cast(DoubleType()))\\\n",
        "    .withColumn('condominio', dados['condominio'].cast(IntegerType()))\\\n",
        "    .withColumn('area_total', dados['area_total'].cast(DoubleType()))\\\n",
        "    .withColumn('area_util', dados['area_util'].cast(DoubleType()))\\\n",
        "    .withColumn('vaga', dados['vaga'].cast(IntegerType()))\\\n",
        "    .withColumn('andar', dados['andar'].cast(IntegerType()))\\\n",
        "    .withColumn('banheiros', dados['banheiros'].cast(IntegerType()))\\\n",
        "    .withColumn('suites', dados['suites'].cast(IntegerType()))\\\n",
        "    .withColumn('quartos', dados['quartos'].cast(IntegerType()))"
      ],
      "metadata": {
        "id": "-8Abh_4Ib_rf"
      },
      "execution_count": 14,
      "outputs": []
    },
    {
      "cell_type": "markdown",
      "source": [
        "Transformando os dados da coluna caracteristicas com lista vazia em null"
      ],
      "metadata": {
        "id": "xudESnZvrL2K"
      }
    },
    {
      "cell_type": "code",
      "source": [
        "#from pyspark.sql.functions import when\n",
        "#from pyspark.sql.functions import col, concat_ws\n",
        "#dados.withColumn('caracteristicas',when(dados['caracteristicas'][0].isNull(),dados['caracteristicas'][0]).otherwise(concat_ws(\",\",col(\"caracteristicas\")))).show(truncate=False)"
      ],
      "metadata": {
        "id": "lXS3q5AxpErz"
      },
      "execution_count": 15,
      "outputs": []
    },
    {
      "cell_type": "markdown",
      "source": [
        "### Seleção de features"
      ],
      "metadata": {
        "id": "6s5KZ-Tc7qbg"
      }
    },
    {
      "cell_type": "markdown",
      "source": [
        "Vamos analisar e retirar variáveis que não podem contribuir para a criação dos modelos de ML"
      ],
      "metadata": {
        "id": "WAUEJ6703liB"
      }
    },
    {
      "cell_type": "code",
      "source": [
        "dados\\\n",
        "    .select('tipo_anuncio')\\\n",
        "    .groupBy('tipo_anuncio')\\\n",
        "    .count()\\\n",
        "    .show()\n",
        "\n",
        "dados\\\n",
        "    .select('tipo_uso')\\\n",
        "    .groupBy('tipo_uso')\\\n",
        "    .count()\\\n",
        "    .show()\n",
        "\n",
        "dados\\\n",
        "    .select('tipo_unidade')\\\n",
        "    .groupBy('tipo_unidade')\\\n",
        "    .count()\\\n",
        "    .show()\n",
        "dados\\\n",
        "    .select('tipo')\\\n",
        "    .groupBy('tipo')\\\n",
        "    .count()\\\n",
        "    .show()"
      ],
      "metadata": {
        "colab": {
          "base_uri": "https://localhost:8080/"
        },
        "id": "JVV5t42x39hA",
        "outputId": "9fecbe9f-a8e5-42f1-df9b-53afae463b84"
      },
      "execution_count": 16,
      "outputs": [
        {
          "output_type": "stream",
          "name": "stdout",
          "text": [
            "+------------+-----+\n",
            "|tipo_anuncio|count|\n",
            "+------------+-----+\n",
            "|       Usado|66562|\n",
            "+------------+-----+\n",
            "\n",
            "+-----------+-----+\n",
            "|   tipo_uso|count|\n",
            "+-----------+-----+\n",
            "|Residencial|66562|\n",
            "+-----------+-----+\n",
            "\n",
            "+------------+-----+\n",
            "|tipo_unidade|count|\n",
            "+------------+-----+\n",
            "| Apartamento|66562|\n",
            "+------------+-----+\n",
            "\n",
            "+-----+-----+\n",
            "| tipo|count|\n",
            "+-----+-----+\n",
            "|Venda|66562|\n",
            "+-----+-----+\n",
            "\n"
          ]
        }
      ]
    },
    {
      "cell_type": "markdown",
      "source": [
        "Vamos retirar as variáveis acima por terem valor único"
      ],
      "metadata": {
        "id": "YybNH3Y636q1"
      }
    },
    {
      "cell_type": "code",
      "source": [
        "dados=dados\\\n",
        "      .drop('tipo_unidade')\\\n",
        "      .drop('tipo_anuncio')\\\n",
        "      .drop('tipo_uso')\\\n",
        "      .drop('tipo')\\\n",
        "      .drop('area_total')\n",
        "      #area_total apresenta informação redundante em relação a area_util e há valores nulos então também será retirado"
      ],
      "metadata": {
        "id": "cJ0IGxkQ5qIb"
      },
      "execution_count": 17,
      "outputs": []
    },
    {
      "cell_type": "markdown",
      "source": [
        "### Tratamento da coluna caracteristicas"
      ],
      "metadata": {
        "id": "bsSYRyKa8jBb"
      }
    },
    {
      "cell_type": "markdown",
      "source": [
        "Pode-se extrair variáveis dummy dessa coluna"
      ],
      "metadata": {
        "id": "eqjJ-37r8wta"
      }
    },
    {
      "cell_type": "markdown",
      "source": [
        "Vamos analisar quais tipos de características estão na base"
      ],
      "metadata": {
        "id": "epCEeH27955U"
      }
    },
    {
      "cell_type": "code",
      "source": [
        "from pyspark.sql.functions import explode\n",
        "dados.select(dados.id,explode(dados.caracteristicas))\\\n",
        "      .select(\"col\")\\\n",
        "      .distinct()\\\n",
        "      .show()"
      ],
      "metadata": {
        "colab": {
          "base_uri": "https://localhost:8080/"
        },
        "id": "w4MO0gdc-GLU",
        "outputId": "e093fe6d-a343-4830-b8f8-c378a4cef25d"
      },
      "execution_count": 18,
      "outputs": [
        {
          "output_type": "stream",
          "name": "stdout",
          "text": [
            "+------------------+\n",
            "|               col|\n",
            "+------------------+\n",
            "|Condomínio fechado|\n",
            "|        Playground|\n",
            "| Portão eletrônico|\n",
            "|           Piscina|\n",
            "|Animais permitidos|\n",
            "|      Portaria 24h|\n",
            "|          Elevador|\n",
            "|          Academia|\n",
            "|   Salão de festas|\n",
            "|     Churrasqueira|\n",
            "+------------------+\n",
            "\n"
          ]
        }
      ]
    },
    {
      "cell_type": "markdown",
      "source": [
        "Vamos realizar um explode dos dados de caracteríticas usando como referência a coluna ID"
      ],
      "metadata": {
        "id": "bNOfrE3VAPaw"
      }
    },
    {
      "cell_type": "code",
      "source": [
        "dados_ex=dados.select(dados.id,explode(dados.caracteristicas))\n",
        "dados_ex.show(truncate=False)"
      ],
      "metadata": {
        "colab": {
          "base_uri": "https://localhost:8080/"
        },
        "id": "wLZ1kgz3-XIg",
        "outputId": "aad3f2ac-3375-4e22-9a79-1b58284c6ec9"
      },
      "execution_count": 19,
      "outputs": [
        {
          "output_type": "stream",
          "name": "stdout",
          "text": [
            "+------------------------------------+------------------+\n",
            "|id                                  |col               |\n",
            "+------------------------------------+------------------+\n",
            "|03a386b6-7ab8-4eff-891d-f8a16efc1989|Churrasqueira     |\n",
            "|03a386b6-7ab8-4eff-891d-f8a16efc1989|Academia          |\n",
            "|03a386b6-7ab8-4eff-891d-f8a16efc1989|Playground        |\n",
            "|03a386b6-7ab8-4eff-891d-f8a16efc1989|Salão de festas   |\n",
            "|03a386b6-7ab8-4eff-891d-f8a16efc1989|Condomínio fechado|\n",
            "|03a386b6-7ab8-4eff-891d-f8a16efc1989|Portão eletrônico |\n",
            "|03a386b6-7ab8-4eff-891d-f8a16efc1989|Portaria 24h      |\n",
            "|03a386b6-7ab8-4eff-891d-f8a16efc1989|Animais permitidos|\n",
            "|40a2cbde-946b-42da-b7f2-b80057c7a47f|Condomínio fechado|\n",
            "|40a2cbde-946b-42da-b7f2-b80057c7a47f|Portaria 24h      |\n",
            "|40a2cbde-946b-42da-b7f2-b80057c7a47f|Salão de festas   |\n",
            "|40a2cbde-946b-42da-b7f2-b80057c7a47f|Churrasqueira     |\n",
            "|40a2cbde-946b-42da-b7f2-b80057c7a47f|Piscina           |\n",
            "|40a2cbde-946b-42da-b7f2-b80057c7a47f|Animais permitidos|\n",
            "|be269ddf-a4a3-4a72-bd54-93cdccf512dd|Churrasqueira     |\n",
            "|be269ddf-a4a3-4a72-bd54-93cdccf512dd|Condomínio fechado|\n",
            "|be269ddf-a4a3-4a72-bd54-93cdccf512dd|Piscina           |\n",
            "|4b7e3d59-34fd-4bac-9232-1015cb3b3a24|Churrasqueira     |\n",
            "|4b7e3d59-34fd-4bac-9232-1015cb3b3a24|Piscina           |\n",
            "|4b7e3d59-34fd-4bac-9232-1015cb3b3a24|Playground        |\n",
            "+------------------------------------+------------------+\n",
            "only showing top 20 rows\n",
            "\n"
          ]
        }
      ]
    },
    {
      "cell_type": "markdown",
      "source": [
        "Extraindo variáveis Dummy do dados acima e agrupando pela variável id"
      ],
      "metadata": {
        "id": "OzxHIwQsAlKn"
      }
    },
    {
      "cell_type": "code",
      "source": [
        "from pyspark.sql import functions as f\n",
        "dados_ex=dados_ex.groupBy(\"id\")\\\n",
        "        .pivot('col')\\\n",
        "        .agg(f.lit(1))\\\n",
        "        .na\\\n",
        "        .fill(0)\n",
        "dados_ex.show(truncate=False)"
      ],
      "metadata": {
        "colab": {
          "base_uri": "https://localhost:8080/"
        },
        "id": "VBiuKCdqAza2",
        "outputId": "2b34c0ac-dacb-4bd1-f79a-0ac2447d35fb"
      },
      "execution_count": 20,
      "outputs": [
        {
          "output_type": "stream",
          "name": "stdout",
          "text": [
            "+------------------------------------+--------+------------------+-------------+------------------+--------+-------+----------+------------+-----------------+---------------+\n",
            "|id                                  |Academia|Animais permitidos|Churrasqueira|Condomínio fechado|Elevador|Piscina|Playground|Portaria 24h|Portão eletrônico|Salão de festas|\n",
            "+------------------------------------+--------+------------------+-------------+------------------+--------+-------+----------+------------+-----------------+---------------+\n",
            "|fd96bbd5-d631-416a-9f84-29091cefe14c|1       |1                 |1            |1                 |1       |1      |1         |1           |1                |1              |\n",
            "|bfffedfe-99e7-4aed-9a9f-f766225a0f1f|0       |1                 |1            |1                 |1       |0      |1         |0           |1                |1              |\n",
            "|fcb67af3-5601-415f-9d1f-75280923a4e3|1       |1                 |1            |0                 |0       |1      |1         |0           |0                |1              |\n",
            "|afecddff-f4cc-4ab8-bdbf-242b7dff7241|1       |1                 |1            |1                 |1       |1      |1         |1           |1                |1              |\n",
            "|1bbc40f3-4f5c-4595-99b1-56ef42a54ede|1       |0                 |0            |1                 |1       |1      |1         |1           |1                |1              |\n",
            "|fd26aeb2-a7b3-4f80-97ed-fe3eb928c123|1       |1                 |1            |1                 |1       |1      |1         |1           |1                |1              |\n",
            "|10e9d118-dbad-43c3-879d-6def0d60f8ed|0       |1                 |1            |1                 |0       |1      |1         |1           |1                |1              |\n",
            "|ca1e84d7-86c8-4b1e-aa5a-db99c8c9d0d3|1       |0                 |1            |1                 |1       |1      |1         |1           |1                |1              |\n",
            "|d9e139a5-e85d-4e1b-b77f-1b120d146fb3|1       |1                 |1            |1                 |1       |1      |1         |1           |1                |1              |\n",
            "|156a1fa5-37ca-43db-8448-df4a35f45496|1       |0                 |1            |1                 |1       |1      |1         |1           |1                |1              |\n",
            "|e7be09eb-6223-4b41-b255-30a5f7d67771|1       |1                 |1            |1                 |1       |1      |1         |1           |1                |1              |\n",
            "|631efda0-5e10-422c-990a-f6c47f6ec4c7|1       |1                 |1            |1                 |1       |1      |1         |1           |1                |1              |\n",
            "|07cbfef2-efbf-4e89-a023-db65e76cc820|0       |1                 |0            |0                 |1       |0      |0         |1           |0                |0              |\n",
            "|62baf185-103d-4489-956a-d2cc707a66cd|1       |0                 |1            |1                 |0       |1      |1         |0           |0                |0              |\n",
            "|3030d17c-5681-4b2f-b333-3e363a92ddda|1       |1                 |1            |1                 |1       |1      |0         |1           |1                |1              |\n",
            "|6179c8a4-1fd2-4f54-a91d-68d1ba80dd26|1       |1                 |0            |1                 |1       |1      |1         |1           |1                |1              |\n",
            "|c284072a-7298-4e5a-bc0b-a90b3a0f17fc|1       |1                 |1            |1                 |1       |1      |1         |1           |1                |1              |\n",
            "|7e43514c-3b40-4fbd-9ad4-1fcac078134d|1       |1                 |1            |1                 |1       |1      |1         |1           |1                |1              |\n",
            "|6a4ce9ac-1eb0-4d4b-9a65-5e6d842777bf|1       |0                 |1            |0                 |1       |1      |1         |0           |0                |1              |\n",
            "|bdc6127a-1d97-41b4-a736-85122e76bd5e|1       |0                 |1            |0                 |0       |0      |0         |0           |0                |1              |\n",
            "+------------------------------------+--------+------------------+-------------+------------------+--------+-------+----------+------------+-----------------+---------------+\n",
            "only showing top 20 rows\n",
            "\n"
          ]
        }
      ]
    },
    {
      "cell_type": "markdown",
      "source": [
        "Inserindo as colunas no dataset e excluindo a coluna caracteristicas"
      ],
      "metadata": {
        "id": "1GbBUI2uD1Fi"
      }
    },
    {
      "cell_type": "code",
      "source": [
        "dados=dados\\\n",
        "    .join(dados_ex, 'id', how='left').drop('caracteristicas')\n",
        "dados.show(truncate=False)"
      ],
      "metadata": {
        "colab": {
          "base_uri": "https://localhost:8080/"
        },
        "id": "a-kviXYUD1tB",
        "outputId": "cf3b9351-dae2-4636-85f3-373ac09ae1dc"
      },
      "execution_count": 21,
      "outputs": [
        {
          "output_type": "stream",
          "name": "stdout",
          "text": [
            "+------------------------------------+-----+---------+---------+-------+------+----+-----------------------+------------+----------+------+--------+--------+------------------+-------------+------------------+--------+-------+----------+------------+-----------------+---------------+\n",
            "|id                                  |andar|area_util|banheiros|quartos|suites|vaga|bairro                 |zona        |condominio|iptu  |valor   |Academia|Animais permitidos|Churrasqueira|Condomínio fechado|Elevador|Piscina|Playground|Portaria 24h|Portão eletrônico|Salão de festas|\n",
            "+------------------------------------+-----+---------+---------+-------+------+----+-----------------------+------------+----------+------+--------+--------+------------------+-------------+------------------+--------+-------+----------+------------+-----------------+---------------+\n",
            "|03a386b6-7ab8-4eff-891d-f8a16efc1989|0    |43.0     |1        |2      |null  |1   |Realengo               |Zona Oeste  |285       |null  |22999.0 |1       |1                 |1            |1                 |0       |0      |1         |1           |1                |1              |\n",
            "|1fe78d41-b8e0-4d21-a1a8-72cb7863f441|0    |44.0     |1        |2      |0     |0   |Irajá                  |Zona Norte  |170       |0.0   |110000.0|null    |null              |null         |null              |null    |null   |null      |null        |null             |null           |\n",
            "|1fa1c1e5-e98c-433f-9675-1b43d7d6da01|4    |55.0     |1        |2      |0     |1   |Cosmos                 |Zona Oeste  |null      |null  |115000.0|null    |null              |null         |null              |null    |null   |null      |null        |null             |null           |\n",
            "|a6ab01ae-3d40-40e7-bb6a-f2334e0abbe0|2    |55.0     |1        |2      |0     |0   |Tomás Coelho           |Zona Norte  |null      |null  |115000.0|null    |null              |null         |null              |null    |null   |null      |null        |null             |null           |\n",
            "|1d8ff7a2-16bd-4e3f-a92e-1b85f923ebb0|0    |50.0     |1        |1      |null  |0   |Centro                 |Zona Central|1300      |2679.0|125000.0|null    |null              |null         |null              |null    |null   |null      |null        |null             |null           |\n",
            "|40a2cbde-946b-42da-b7f2-b80057c7a47f|2    |47.0     |1        |2      |0     |1   |Campo Grande           |Zona Oeste  |380       |null  |138000.0|0       |1                 |1            |1                 |0       |1      |0         |1           |0                |1              |\n",
            "|be269ddf-a4a3-4a72-bd54-93cdccf512dd|0    |45.0     |1        |2      |0     |1   |Campo Grande           |Zona Oeste  |356       |0.0   |140000.0|0       |0                 |1            |1                 |0       |1      |0         |0           |0                |0              |\n",
            "|4b7e3d59-34fd-4bac-9232-1015cb3b3a24|3    |48.0     |1        |2      |null  |1   |Campo Grande           |Zona Oeste  |0         |0.0   |150000.0|0       |1                 |1            |1                 |0       |1      |1         |1           |1                |1              |\n",
            "|a1a0c2ac-4fa8-4b02-a087-f9d76b6bccb7|9    |55.0     |1        |2      |null  |1   |Freguesia (Jacarepaguá)|Zona Oeste  |780       |660.0 |160000.0|0       |1                 |1            |1                 |1       |0      |0         |1           |1                |1              |\n",
            "|390d2b88-e06d-47e5-ba7f-a680130ac5f0|0    |70.0     |2        |2      |0     |1   |Praça Seca             |Zona Oeste  |420000    |null  |159000.0|0       |0                 |0            |0                 |0       |0      |0         |0           |0                |1              |\n",
            "|07bb07c1-21cc-4daa-99c4-e12b53da67d2|2    |48.0     |1        |1      |0     |0   |Piedade                |Zona Norte  |10        |10.0  |170000.0|0       |1                 |0            |1                 |0       |0      |0         |0           |0                |0              |\n",
            "|7d3a1bae-988c-44b9-8e42-99267dda4245|5    |40.0     |1        |2      |0     |1   |Braz de Pina           |Zona Norte  |150       |120.0 |189000.0|0       |1                 |1            |1                 |0       |0      |1         |1           |1                |1              |\n",
            "|47af17f0-1c81-474c-b7ec-fefbe48954d0|0    |65.0     |1        |2      |0     |1   |Campinho               |Zona Oeste  |432       |null  |185000.0|null    |null              |null         |null              |null    |null   |null      |null        |null             |null           |\n",
            "|a9bd1575-e9f2-43d7-850c-c8d1385e6908|2    |50.0     |1        |1      |0     |1   |Madureira              |Zona Norte  |650       |1.0   |185000.0|0       |1                 |0            |1                 |0       |0      |0         |0           |1                |0              |\n",
            "|cfca7253-3d02-4cdc-99de-714ad1b4cc61|5    |45.0     |1        |2      |1     |0   |Taquara                |Zona Oeste  |150       |40.0  |199000.0|1       |1                 |1            |1                 |1       |0      |1         |1           |1                |1              |\n",
            "|b571ae97-e3d8-4fbf-80b9-2c2c78fb02c1|0    |48.0     |1        |2      |null  |0   |Bonsucesso             |Zona Norte  |0         |0.0   |205933.0|1       |1                 |1            |1                 |1       |0      |0         |1           |1                |1              |\n",
            "|eb5fdc65-acae-45f8-9075-b5238b19bd9e|0    |44.0     |1        |2      |null  |0   |Bonsucesso             |Zona Norte  |0         |0.0   |206000.0|1       |1                 |0            |1                 |1       |0      |1         |1           |1                |1              |\n",
            "|77cd0388-e3ff-40c3-928c-f4d535049bff|2    |64.0     |1        |2      |0     |0   |Jardim América         |Zona Norte  |0         |0.0   |220000.0|null    |null              |null         |null              |null    |null   |null      |null        |null             |null           |\n",
            "|74a91f07-7387-4a8e-bfbe-c8aec0bf645f|0    |55.0     |2        |1      |0     |1   |Engenho Novo           |Zona Norte  |600       |652.0 |219130.0|0       |0                 |0            |0                 |1       |0      |0         |0           |0                |1              |\n",
            "|6aab1165-508d-4554-b122-b61c178109de|3    |60.0     |1        |3      |0     |1   |Cascadura              |Zona Norte  |98        |1.0   |230000.0|0       |1                 |0            |0                 |0       |0      |0         |0           |0                |0              |\n",
            "+------------------------------------+-----+---------+---------+-------+------+----+-----------------------+------------+----------+------+--------+--------+------------------+-------------+------------------+--------+-------+----------+------------+-----------------+---------------+\n",
            "only showing top 20 rows\n",
            "\n"
          ]
        }
      ]
    },
    {
      "cell_type": "markdown",
      "source": [
        "###Tratando dados nulos e NaN's"
      ],
      "metadata": {
        "id": "BEN_HwDF7VWm"
      }
    },
    {
      "cell_type": "markdown",
      "source": [
        "contando dados nulos e NaN's"
      ],
      "metadata": {
        "id": "8UcGrOK7-wR3"
      }
    },
    {
      "cell_type": "code",
      "source": [
        "dados\\\n",
        "    .select([f.count(f.when(f.isnan(c) | f.isnull(c), True)).alias(c) for c in dados.columns])\\\n",
        "    .show()"
      ],
      "metadata": {
        "colab": {
          "base_uri": "https://localhost:8080/"
        },
        "id": "vrckDS_W-kLD",
        "outputId": "aea650ec-bdd5-42fa-d18a-82947970efb8"
      },
      "execution_count": 22,
      "outputs": [
        {
          "output_type": "stream",
          "name": "stdout",
          "text": [
            "+---+-----+---------+---------+-------+------+----+------+----+----------+----+-----+--------+------------------+-------------+------------------+--------+-------+----------+------------+-----------------+---------------+\n",
            "| id|andar|area_util|banheiros|quartos|suites|vaga|bairro|zona|condominio|iptu|valor|Academia|Animais permitidos|Churrasqueira|Condomínio fechado|Elevador|Piscina|Playground|Portaria 24h|Portão eletrônico|Salão de festas|\n",
            "+---+-----+---------+---------+-------+------+----+------+----+----------+----+-----+--------+------------------+-------------+------------------+--------+-------+----------+------------+-----------------+---------------+\n",
            "|  0|    0|        0|        0|      0|  5554|3017|     0|   0|      2371|7199|    0|   12736|             12736|        12736|             12736|   12736|  12736|     12736|       12736|            12736|          12736|\n",
            "+---+-----+---------+---------+-------+------+----+------+----+----------+----+-----+--------+------------------+-------------+------------------+--------+-------+----------+------------+-----------------+---------------+\n",
            "\n"
          ]
        }
      ]
    },
    {
      "cell_type": "markdown",
      "source": [
        "Substituindo valores nulos por zero"
      ],
      "metadata": {
        "id": "i98U8dYx_X0T"
      }
    },
    {
      "cell_type": "code",
      "source": [
        "dados=dados\\\n",
        "    .select('*')\\\n",
        "    .na\\\n",
        "    .fill(0)\n"
      ],
      "metadata": {
        "id": "hnzyXeQS_ksq"
      },
      "execution_count": 23,
      "outputs": []
    },
    {
      "cell_type": "markdown",
      "source": [
        "###Preparação dos dados para machine learning"
      ],
      "metadata": {
        "id": "fhicROHQASAX"
      }
    },
    {
      "cell_type": "code",
      "source": [
        "dados\\\n",
        "    .select('zona')\\\n",
        "    .groupBy('zona')\\\n",
        "    .count()\\\n",
        "    .show()\n",
        "dados\\\n",
        "    .select('bairro')\\\n",
        "    .groupBy('bairro')\\\n",
        "    .count()\\\n",
        "    .show()"
      ],
      "metadata": {
        "colab": {
          "base_uri": "https://localhost:8080/"
        },
        "id": "P6KIiyj_ASk2",
        "outputId": "d174e012-3d40-4d36-a813-85f6b3adf8ad"
      },
      "execution_count": 24,
      "outputs": [
        {
          "output_type": "stream",
          "name": "stdout",
          "text": [
            "+------------+-----+\n",
            "|        zona|count|\n",
            "+------------+-----+\n",
            "|  Zona Norte|11897|\n",
            "|  Zona Oeste|32979|\n",
            "|Zona Central| 1144|\n",
            "|    Zona Sul|20531|\n",
            "|            |   11|\n",
            "+------------+-----+\n",
            "\n",
            "+-------------------+-----+\n",
            "|             bairro|count|\n",
            "+-------------------+-----+\n",
            "|             Cocotá|   16|\n",
            "|       Tomás Coelho|   38|\n",
            "|              Gávea|  597|\n",
            "|            Ipanema| 2113|\n",
            "|           Realengo|   46|\n",
            "|      Gardênia Azul|    7|\n",
            "|      Bento Ribeiro|   33|\n",
            "|              Rocha|   38|\n",
            "|Vicente de Carvalho|   86|\n",
            "|         Manguinhos|    1|\n",
            "|       Campo Grande|  639|\n",
            "|        Jacarepaguá| 4437|\n",
            "|               Leme|  234|\n",
            "|           Botafogo| 3499|\n",
            "|       Padre Miguel|   15|\n",
            "|       Santo Cristo|  357|\n",
            "|           Flamengo| 1378|\n",
            "|  Engenho da Rainha|   25|\n",
            "| Pedra de Guaratiba|   12|\n",
            "|            Piedade|  104|\n",
            "+-------------------+-----+\n",
            "only showing top 20 rows\n",
            "\n"
          ]
        }
      ]
    },
    {
      "cell_type": "markdown",
      "source": [
        "A zona é uma coluna que é interessante extrair colunas categóricas mas o bairro não pois apresenta muitas variáveis"
      ],
      "metadata": {
        "id": "hhPd5v1cApC0"
      }
    },
    {
      "cell_type": "code",
      "source": [
        "dados = dados\\\n",
        "    .where(f.col('zona') != '')#Tirando linhas sem zona\n",
        "dados=dados.drop('bairro') #Tirando o bairro do dataset\n",
        "zona = dados\\\n",
        "    .groupBy('ID')\\\n",
        "    .pivot('zona')\\\n",
        "    .agg(f.lit(1))\\\n",
        "    .na\\\n",
        "    .fill(0)"
      ],
      "metadata": {
        "id": "mxXcWphLBHZ9"
      },
      "execution_count": 25,
      "outputs": []
    },
    {
      "cell_type": "code",
      "source": [
        "dados = dados\\\n",
        "    .join(zona, 'ID', how='inner')\n",
        "dados.show(truncate=False)"
      ],
      "metadata": {
        "id": "gZ8YKM0eCGAG",
        "colab": {
          "base_uri": "https://localhost:8080/"
        },
        "outputId": "0b66ce5e-de72-4b60-8ca3-e480f32997ee"
      },
      "execution_count": 26,
      "outputs": [
        {
          "output_type": "stream",
          "name": "stdout",
          "text": [
            "+------------------------------------+-----+---------+---------+-------+------+----+----------+----------+-------+---------+--------+------------------+-------------+------------------+--------+-------+----------+------------+-----------------+---------------+------------+----------+----------+--------+\n",
            "|id                                  |andar|area_util|banheiros|quartos|suites|vaga|zona      |condominio|iptu   |valor    |Academia|Animais permitidos|Churrasqueira|Condomínio fechado|Elevador|Piscina|Playground|Portaria 24h|Portão eletrônico|Salão de festas|Zona Central|Zona Norte|Zona Oeste|Zona Sul|\n",
            "+------------------------------------+-----+---------+---------+-------+------+----+----------+----------+-------+---------+--------+------------------+-------------+------------------+--------+-------+----------+------------+-----------------+---------------+------------+----------+----------+--------+\n",
            "|006e2b19-f4de-4505-867f-a8d347d24e2c|0    |116.0    |2        |3      |1     |1   |Zona Oeste|100       |100.0  |3793260.0|1       |1                 |1            |1                 |1       |1      |1         |1           |1                |1              |0           |0         |1         |0       |\n",
            "|011acce0-129f-4c24-9b52-21ef4daba93e|0    |143.0    |4        |4      |3     |1   |Zona Oeste|3948      |2000.0 |1600000.0|0       |0                 |1            |0                 |0       |1      |0         |0           |0                |0              |0           |0         |1         |0       |\n",
            "|013c582b-eca8-4743-ab69-0f1ef02e509b|7    |236.0    |4        |5      |2     |3   |Zona Oeste|20        |20.0   |1535000.0|1       |1                 |1            |1                 |1       |1      |1         |1           |1                |1              |0           |0         |1         |0       |\n",
            "|013d04e0-6054-4ac5-945c-0bc7e05a7fa7|0    |215.0    |3        |3      |1     |2   |Zona Sul  |1685      |4500.0 |2279540.0|0       |0                 |1            |0                 |1       |0      |0         |0           |0                |0              |0           |0         |0         |1       |\n",
            "|02fba6ef-a691-442a-997f-211944057adf|3    |64.0     |1        |2      |2     |1   |Zona Oeste|784       |80.0   |380000.0 |1       |1                 |1            |1                 |1       |1      |1         |1           |1                |1              |0           |0         |1         |0       |\n",
            "|03a386b6-7ab8-4eff-891d-f8a16efc1989|0    |43.0     |1        |2      |0     |1   |Zona Oeste|285       |0.0    |22999.0  |1       |1                 |1            |1                 |0       |0      |1         |1           |1                |1              |0           |0         |1         |0       |\n",
            "|05e0cf33-59c4-4dda-9b1f-f1cfe1cdeca7|2    |66.0     |2        |2      |0     |1   |Zona Sul  |1600      |210.0  |1200000.0|0       |0                 |0            |0                 |1       |0      |0         |1           |0                |1              |0           |0         |0         |1       |\n",
            "|06e17192-b0ea-4043-9c64-a4e6fb6a63f5|0    |154.0    |5        |4      |0     |3   |Zona Oeste|1780      |4400.0 |2200000.0|1       |1                 |0            |1                 |1       |1      |0         |0           |0                |1              |0           |0         |1         |0       |\n",
            "|075962eb-be7f-47c9-bd86-6acdc4ed4802|0    |100.0    |3        |2      |1     |1   |Zona Sul  |5000      |7840.0 |2000000.0|0       |0                 |0            |0                 |0       |1      |1         |0           |0                |0              |0           |0         |0         |1       |\n",
            "|07ab6e4a-fd5e-4c0c-ac9d-25b2de174238|0    |70.0     |2        |2      |0     |1   |Zona Norte|550       |1.0    |438999.0 |0       |0                 |0            |0                 |1       |0      |0         |0           |0                |0              |0           |1         |0         |0       |\n",
            "|07bb07c1-21cc-4daa-99c4-e12b53da67d2|2    |48.0     |1        |1      |0     |0   |Zona Norte|10        |10.0   |170000.0 |0       |1                 |0            |1                 |0       |0      |0         |0           |0                |0              |0           |1         |0         |0       |\n",
            "|07cbfef2-efbf-4e89-a023-db65e76cc820|1    |120.0    |2        |3      |0     |0   |Zona Sul  |950       |270.0  |950000.0 |0       |1                 |0            |0                 |1       |0      |0         |1           |0                |0              |0           |0         |0         |1       |\n",
            "|085e90da-4e5e-4bd3-8c0c-988142671f88|0    |102.0    |2        |2      |2     |1   |Zona Sul  |1         |1.0    |950000.0 |1       |1                 |1            |1                 |1       |1      |1         |1           |1                |1              |0           |0         |0         |1       |\n",
            "|092409e4-0c46-4544-b380-55f34995006b|0    |72.0     |1        |2      |0     |1   |Zona Sul  |2000      |225.0  |750000.0 |0       |1                 |1            |1                 |1       |0      |0         |0           |1                |0              |0           |0         |0         |1       |\n",
            "|0a00abfe-d8ac-4870-9ab7-df651c2e9c9b|0    |68.0     |1        |2      |0     |0   |Zona Norte|750       |230.0  |340000.0 |0       |0                 |0            |0                 |0       |0      |0         |0           |0                |0              |0           |1         |0         |0       |\n",
            "|0b3f15d1-a6fe-429b-8dab-09b39e28d81d|2    |183.0    |3        |4      |2     |2   |Zona Sul  |20        |20.0   |5784000.0|1       |0                 |0            |1                 |1       |0      |1         |0           |0                |0              |0           |0         |0         |1       |\n",
            "|0e3cea1c-fddc-4c58-a080-7f24d6f1567d|0    |381.0    |6        |4      |4     |3   |Zona Oeste|6000      |28000.0|1.08E7   |0       |0                 |0            |0                 |0       |0      |0         |0           |0                |0              |0           |0         |1         |0       |\n",
            "|0e7f7703-c27b-4ace-8518-f9352da34fc6|4    |51.0     |1        |2      |0     |1   |Zona Oeste|435       |85.0   |239000.0 |1       |1                 |1            |1                 |1       |1      |1         |1           |1                |1              |0           |0         |1         |0       |\n",
            "|0f8b79dd-85ac-48b4-a644-7dc1b9bd42ea|0    |168.0    |5        |4      |1     |2   |Zona Oeste|2700      |900.0  |3250000.0|0       |0                 |0            |1                 |0       |0      |0         |0           |0                |0              |0           |0         |1         |0       |\n",
            "|0f92a7ef-415f-4b52-9501-9c1649fc00c3|0    |140.0    |3        |3      |1     |1   |Zona Sul  |1400      |3800.0 |1650000.0|0       |0                 |0            |1                 |1       |0      |0         |1           |1                |0              |0           |0         |0         |1       |\n",
            "+------------------------------------+-----+---------+---------+-------+------+----+----------+----------+-------+---------+--------+------------------+-------------+------------------+--------+-------+----------+------------+-----------------+---------------+------------+----------+----------+--------+\n",
            "only showing top 20 rows\n",
            "\n"
          ]
        }
      ]
    },
    {
      "cell_type": "markdown",
      "source": [
        "###Salvando dados"
      ],
      "metadata": {
        "id": "hffLEWMrE_6P"
      }
    },
    {
      "cell_type": "markdown",
      "source": [
        "Mudando o titulo de algumas colunas para evitar erros"
      ],
      "metadata": {
        "id": "r0S8MEjIFeEW"
      }
    },
    {
      "cell_type": "code",
      "source": [
        "dados=dados\\\n",
        "      .withColumnRenamed(\"Animais permitidos\",\"Animais_permitidos\")\\\n",
        "      .withColumnRenamed(\"Condomínio fechado\",\"Condominio_fechado\")\\\n",
        "      .withColumnRenamed(\"Salão de festas\",\"Salao_festas\")\\\n",
        "      .withColumnRenamed(\"Portão eletrônico\",\"Portao_eletronico\")\\\n",
        "      .withColumnRenamed(\"Portaria 24h\",\"Portaria_24h\")\\\n",
        "      .withColumnRenamed(\"Zona Norte\",\"Zona_Norte\")\\\n",
        "      .withColumnRenamed(\"Zona Sul\",\"Zona_Sul\")\\\n",
        "      .withColumnRenamed(\"Zona Oeste\",\"Zona_Oeste\")\\\n",
        "      .withColumnRenamed(\"Zona Central\",\"Zona_Central\")"
      ],
      "metadata": {
        "id": "tFKsCtIvFxRD"
      },
      "execution_count": 27,
      "outputs": []
    },
    {
      "cell_type": "code",
      "source": [
        "dados.write.parquet(\n",
        "    path='/content/dados/parquet',\n",
        "    mode='overwrite'\n",
        ")"
      ],
      "metadata": {
        "id": "ydEURN5UE4XN"
      },
      "execution_count": 28,
      "outputs": []
    },
    {
      "cell_type": "markdown",
      "source": [
        "###Preparação dos dados para o aplicação dos modelos de ML"
      ],
      "metadata": {
        "id": "M1G6OfSBJzSh"
      }
    },
    {
      "cell_type": "markdown",
      "source": [
        "Selecionando features"
      ],
      "metadata": {
        "id": "5M-Dp6RrLzrt"
      }
    },
    {
      "cell_type": "code",
      "source": [
        "dados.show(1)"
      ],
      "metadata": {
        "colab": {
          "base_uri": "https://localhost:8080/"
        },
        "id": "LTBBjPNoL-MK",
        "outputId": "f83a83e0-df4d-45b4-a075-8b546abe3123"
      },
      "execution_count": 29,
      "outputs": [
        {
          "output_type": "stream",
          "name": "stdout",
          "text": [
            "+--------------------+-----+---------+---------+-------+------+----+----------+----------+-----+---------+--------+------------------+-------------+------------------+--------+-------+----------+------------+-----------------+------------+------------+----------+----------+--------+\n",
            "|                  id|andar|area_util|banheiros|quartos|suites|vaga|      zona|condominio| iptu|    valor|Academia|Animais_permitidos|Churrasqueira|Condominio_fechado|Elevador|Piscina|Playground|Portaria_24h|Portao_eletronico|Salao_festas|Zona_Central|Zona_Norte|Zona_Oeste|Zona_Sul|\n",
            "+--------------------+-----+---------+---------+-------+------+----+----------+----------+-----+---------+--------+------------------+-------------+------------------+--------+-------+----------+------------+-----------------+------------+------------+----------+----------+--------+\n",
            "|006e2b19-f4de-450...|    0|    116.0|        2|      3|     1|   1|Zona Oeste|       100|100.0|3793260.0|       1|                 1|            1|                 1|       1|      1|         1|           1|                1|           1|           0|         0|         1|       0|\n",
            "+--------------------+-----+---------+---------+-------+------+----+----------+----------+-----+---------+--------+------------------+-------------+------------------+--------+-------+----------+------------+-----------------+------------+------------+----------+----------+--------+\n",
            "only showing top 1 row\n",
            "\n"
          ]
        }
      ]
    },
    {
      "cell_type": "code",
      "source": [
        "from pyspark.ml.feature import VectorAssembler\n",
        "X = [\n",
        "    'andar',\n",
        "    'area_util',\n",
        "    'banheiros',\n",
        "    'quartos',\n",
        "    'suites',\n",
        "    'vaga',\n",
        "    'condominio',\n",
        "    'iptu',\n",
        "    'Academia',\n",
        "    'Animais_permitidos',\n",
        "    'Churrasqueira',\n",
        "    'Condominio_fechado',\n",
        "    'Salao_festas',\n",
        "    'Portao_eletronico',\n",
        "    'Portaria_24h',\n",
        "    'Playground',\n",
        "    'Piscina',\n",
        "    'Elevador',\n",
        "    'Zona_Central',\n",
        "    'Zona_Norte',\n",
        "    'Zona_Oeste',\n",
        "    'Zona_Sul'\n",
        "]\n",
        "assembler = VectorAssembler(inputCols = X, outputCol = 'features')"
      ],
      "metadata": {
        "id": "4XzYA9mIL4ia"
      },
      "execution_count": 30,
      "outputs": []
    },
    {
      "cell_type": "code",
      "source": [
        "dados = dados.withColumnRenamed('valor','label')"
      ],
      "metadata": {
        "id": "JFy4f5WnYf2E"
      },
      "execution_count": 38,
      "outputs": []
    },
    {
      "cell_type": "code",
      "source": [
        "dados_prep = assembler.transform(dados).select('features', 'label')\n",
        "dados_prep.show(10, truncate=False)"
      ],
      "metadata": {
        "colab": {
          "base_uri": "https://localhost:8080/"
        },
        "id": "zf3Dp32-NSbU",
        "outputId": "f583d860-47a0-4b0d-f28d-0e96f507b8b3"
      },
      "execution_count": 39,
      "outputs": [
        {
          "output_type": "stream",
          "name": "stdout",
          "text": [
            "+---------------------------------------------------------------------------------------------------+---------+\n",
            "|features                                                                                           |label    |\n",
            "+---------------------------------------------------------------------------------------------------+---------+\n",
            "|[0.0,116.0,2.0,3.0,1.0,1.0,100.0,100.0,1.0,1.0,1.0,1.0,1.0,1.0,1.0,1.0,1.0,1.0,0.0,0.0,1.0,0.0]    |3793260.0|\n",
            "|(22,[1,2,3,4,5,6,7,10,16,20],[143.0,4.0,4.0,3.0,1.0,3948.0,2000.0,1.0,1.0,1.0])                    |1600000.0|\n",
            "|[7.0,236.0,4.0,5.0,2.0,3.0,20.0,20.0,1.0,1.0,1.0,1.0,1.0,1.0,1.0,1.0,1.0,1.0,0.0,0.0,1.0,0.0]      |1535000.0|\n",
            "|(22,[1,2,3,4,5,6,7,10,17,21],[215.0,3.0,3.0,1.0,2.0,1685.0,4500.0,1.0,1.0,1.0])                    |2279540.0|\n",
            "|[3.0,64.0,1.0,2.0,2.0,1.0,784.0,80.0,1.0,1.0,1.0,1.0,1.0,1.0,1.0,1.0,1.0,1.0,0.0,0.0,1.0,0.0]      |380000.0 |\n",
            "|[0.0,43.0,1.0,2.0,0.0,1.0,285.0,0.0,1.0,1.0,1.0,1.0,1.0,1.0,1.0,1.0,0.0,0.0,0.0,0.0,1.0,0.0]       |22999.0  |\n",
            "|(22,[0,1,2,3,5,6,7,12,14,17,21],[2.0,66.0,2.0,2.0,1.0,1600.0,210.0,1.0,1.0,1.0,1.0])               |1200000.0|\n",
            "|(22,[1,2,3,5,6,7,8,9,11,12,16,17,20],[154.0,5.0,4.0,3.0,1780.0,4400.0,1.0,1.0,1.0,1.0,1.0,1.0,1.0])|2200000.0|\n",
            "|(22,[1,2,3,4,5,6,7,15,16,21],[100.0,3.0,2.0,1.0,1.0,5000.0,7840.0,1.0,1.0,1.0])                    |2000000.0|\n",
            "|(22,[1,2,3,5,6,7,17,19],[70.0,2.0,2.0,1.0,550.0,1.0,1.0,1.0])                                      |438999.0 |\n",
            "+---------------------------------------------------------------------------------------------------+---------+\n",
            "only showing top 10 rows\n",
            "\n"
          ]
        }
      ]
    },
    {
      "cell_type": "markdown",
      "source": [
        "Analisando a correlação entre variáveis"
      ],
      "metadata": {
        "id": "YoOHTt8PKXCR"
      }
    },
    {
      "cell_type": "code",
      "source": [
        "from pyspark.ml.stat import Correlation\n",
        "import pandas as pd\n",
        "correlacao = Correlation.corr(dados_prep, 'features').collect()[0][0]"
      ],
      "metadata": {
        "id": "dNb6w9q6N1Hu"
      },
      "execution_count": 32,
      "outputs": []
    },
    {
      "cell_type": "code",
      "source": [
        "dataframe_correlacao = pd.DataFrame(correlacao.toArray(), columns=X, index=X)"
      ],
      "metadata": {
        "id": "ysahBNa1Odmf"
      },
      "execution_count": 33,
      "outputs": []
    },
    {
      "cell_type": "code",
      "source": [
        "import matplotlib.pyplot as plt\n",
        "import seaborn as sns\n",
        "plt.figure(figsize=(15,12))\n",
        "paleta = sns.color_palette(\"light:salmon\", as_cmap=True)\n",
        "sns.heatmap(dataframe_correlacao.round(1), annot=True, cmap=paleta)"
      ],
      "metadata": {
        "colab": {
          "base_uri": "https://localhost:8080/",
          "height": 817
        },
        "id": "iZZODn1_OCqM",
        "outputId": "7f995574-b7f6-44f9-b048-3116221accf8"
      },
      "execution_count": 34,
      "outputs": [
        {
          "output_type": "execute_result",
          "data": {
            "text/plain": [
              "<matplotlib.axes._subplots.AxesSubplot at 0x7f6748b151c0>"
            ]
          },
          "metadata": {},
          "execution_count": 34
        },
        {
          "output_type": "display_data",
          "data": {
            "text/plain": [
              "<Figure size 1080x864 with 2 Axes>"
            ],
            "image/png": "[encoded data removed]"
          },
          "metadata": {
            "needs_background": "light"
          }
        }
      ]
    },
    {
      "cell_type": "markdown",
      "source": [
        "Pode-se observar que entre algumas variáveis caracteristicas existem uma coleção alta. Por exemplo, entre piscina e churrasqueira, Portaria_24h e Portao_eletronico. Outras features que existem forte correlação são banheiros e suites, quartos e area_util. "
      ],
      "metadata": {
        "id": "0m6PsVwLQ0X8"
      }
    },
    {
      "cell_type": "markdown",
      "source": [
        "Por enquanto vamos manter essas colunas e criar um modelo de regressão"
      ],
      "metadata": {
        "id": "wcTZYe7bT2RV"
      }
    },
    {
      "cell_type": "markdown",
      "source": [
        "###Criação dos modelos de machine learning\n"
      ],
      "metadata": {
        "id": "hTAm-XgnXHtA"
      }
    },
    {
      "cell_type": "markdown",
      "source": [
        "####Regressão linear"
      ],
      "metadata": {
        "id": "8bcE3-YDXiCZ"
      }
    },
    {
      "cell_type": "code",
      "source": [
        "from pyspark.ml.regression import LinearRegression"
      ],
      "metadata": {
        "id": "HOA0PYEnXhaQ"
      },
      "execution_count": 35,
      "outputs": []
    },
    {
      "cell_type": "code",
      "source": [
        "treino, teste = dados_prep.randomSplit([0.7, 0.3], seed=101)#Separando dados de treino e teste\n",
        "lr = LinearRegression()\n",
        "modelo_lr = lr.fit(treino) # Ajuste do modelo\n",
        "previsoes_lr_treino = modelo_lr.transform(treino)\n",
        "resumo_treino = modelo_lr.summary\n",
        "resumo_teste = modelo_lr.evaluate(teste)"
      ],
      "metadata": {
        "id": "OcV3LoSeXOfU"
      },
      "execution_count": 40,
      "outputs": []
    },
    {
      "cell_type": "code",
      "source": [
        "print('Linear Regression')\n",
        "print(\"=\"*30)\n",
        "print(\"Dados de Treino\")\n",
        "print(\"=\"*30)\n",
        "print(\"R²: %f\" % resumo_treino.r2)\n",
        "print(\"RMSE: %f\" % resumo_treino.rootMeanSquaredError)\n",
        "print(\"\")\n",
        "print(\"=\"*30)\n",
        "print(\"Dados de Teste\")\n",
        "print(\"=\"*30)\n",
        "print(\"R²: %f\" % resumo_teste.r2)\n",
        "print(\"RMSE: %f\" % resumo_teste.rootMeanSquaredError)"
      ],
      "metadata": {
        "colab": {
          "base_uri": "https://localhost:8080/"
        },
        "id": "itYTClL6X7Er",
        "outputId": "dc853847-abcc-4977-b155-4323654d86c2"
      },
      "execution_count": 41,
      "outputs": [
        {
          "output_type": "stream",
          "name": "stdout",
          "text": [
            "Linear Regression\n",
            "==============================\n",
            "Dados de Treino\n",
            "==============================\n",
            "R²: 0.670036\n",
            "RMSE: 839857.833205\n",
            "\n",
            "==============================\n",
            "Dados de Teste\n",
            "==============================\n",
            "R²: 0.655391\n",
            "RMSE: 877105.361809\n"
          ]
        }
      ]
    },
    {
      "cell_type": "markdown",
      "source": [
        "####Árvore de Decisão - Regressão"
      ],
      "metadata": {
        "id": "M1EkhKeVZGs9"
      }
    },
    {
      "cell_type": "code",
      "source": [
        "from pyspark.ml.regression import DecisionTreeRegressor"
      ],
      "metadata": {
        "id": "01_rL5sgZKiy"
      },
      "execution_count": 42,
      "outputs": []
    },
    {
      "cell_type": "code",
      "source": [
        "dtr = DecisionTreeRegressor(seed=101, maxDepth=7) # Definição do modelo de árvore de decisão com profundidade igual a 7\n",
        "modelo_dtr = dtr.fit(treino) #Ajuste do modelo\n",
        "previsoes_dtr_treino = modelo_dtr.transform(treino)"
      ],
      "metadata": {
        "id": "kqaRyRGPZNH7"
      },
      "execution_count": 43,
      "outputs": []
    },
    {
      "cell_type": "code",
      "source": [
        "from pyspark.ml.evaluation import RegressionEvaluator\n",
        "evaluator = RegressionEvaluator()\n",
        "previsoes_dtr_teste = modelo_dtr.transform(teste)"
      ],
      "metadata": {
        "id": "pJ9AVqAiZxPr"
      },
      "execution_count": 44,
      "outputs": []
    },
    {
      "cell_type": "code",
      "source": [
        "print('Decision Tree Regression')\n",
        "print(\"=\"*30)\n",
        "print(\"Dados de Treino\")\n",
        "print(\"=\"*30)\n",
        "print(\"R²: %f\" % evaluator.evaluate(previsoes_dtr_treino, {evaluator.metricName: \"r2\"}))\n",
        "print(\"RMSE: %f\" % evaluator.evaluate(previsoes_dtr_treino, {evaluator.metricName: \"rmse\"}))\n",
        "print(\"\")\n",
        "print(\"=\"*30)\n",
        "print(\"Dados de Teste\")\n",
        "print(\"=\"*30)\n",
        "print(\"R²: %f\" % evaluator.evaluate(previsoes_dtr_teste, {evaluator.metricName: \"r2\"}))\n",
        "print(\"RMSE: %f\" % evaluator.evaluate(previsoes_dtr_teste, {evaluator.metricName: \"rmse\"}))"
      ],
      "metadata": {
        "colab": {
          "base_uri": "https://localhost:8080/"
        },
        "id": "ea9yDHB4Z7Qu",
        "outputId": "4b8de34d-5ba2-4e82-b222-5895075c709b"
      },
      "execution_count": 45,
      "outputs": [
        {
          "output_type": "stream",
          "name": "stdout",
          "text": [
            "Decision Tree Regression\n",
            "==============================\n",
            "Dados de Treino\n",
            "==============================\n",
            "R²: 0.797776\n",
            "RMSE: 657489.229487\n",
            "\n",
            "==============================\n",
            "Dados de Teste\n",
            "==============================\n",
            "R²: 0.773491\n",
            "RMSE: 711100.415996\n"
          ]
        }
      ]
    },
    {
      "cell_type": "markdown",
      "source": [
        "####Random Forest - Regressão"
      ],
      "metadata": {
        "id": "g0faQ8pzaGWv"
      }
    },
    {
      "cell_type": "code",
      "source": [
        "from pyspark.ml.regression import RandomForestRegressor"
      ],
      "metadata": {
        "id": "CjWymAbnaZzd"
      },
      "execution_count": 46,
      "outputs": []
    },
    {
      "cell_type": "code",
      "source": [
        "rfr = RandomForestRegressor(seed=101, maxDepth=7, numTrees=10) # Definição de alguns imputs como profunidade e o número de árvores\n",
        "modelo_rfr = rfr.fit(treino)#Ajuste do modelo\n",
        "previsoes_rfr_treino = modelo_rfr.transform(treino)"
      ],
      "metadata": {
        "id": "4GYI8Krpabwn"
      },
      "execution_count": 47,
      "outputs": []
    },
    {
      "cell_type": "code",
      "source": [
        "previsoes_rfr_teste = modelo_rfr.transform(teste)"
      ],
      "metadata": {
        "id": "5bVbgHXoatCJ"
      },
      "execution_count": 48,
      "outputs": []
    },
    {
      "cell_type": "code",
      "source": [
        "print('Random Forest Regression')\n",
        "print(\"=\"*30)\n",
        "print(\"Dados de Treino\")\n",
        "print(\"=\"*30)\n",
        "print(\"R²: %f\" % evaluator.evaluate(previsoes_rfr_treino, {evaluator.metricName: \"r2\"}))\n",
        "print(\"RMSE: %f\" % evaluator.evaluate(previsoes_rfr_treino, {evaluator.metricName: \"rmse\"}))\n",
        "print(\"\")\n",
        "print(\"=\"*30)\n",
        "print(\"Dados de Teste\")\n",
        "print(\"=\"*30)\n",
        "print(\"R²: %f\" % evaluator.evaluate(previsoes_rfr_teste, {evaluator.metricName: \"r2\"}))\n",
        "print(\"RMSE: %f\" % evaluator.evaluate(previsoes_rfr_teste, {evaluator.metricName: \"rmse\"}))"
      ],
      "metadata": {
        "colab": {
          "base_uri": "https://localhost:8080/"
        },
        "id": "KuPuOzV7avMy",
        "outputId": "76f4fc3e-8764-4b6b-9466-cc9c7773091d"
      },
      "execution_count": 49,
      "outputs": [
        {
          "output_type": "stream",
          "name": "stdout",
          "text": [
            "Random Forest Regression\n",
            "==============================\n",
            "Dados de Treino\n",
            "==============================\n",
            "R²: 0.805758\n",
            "RMSE: 644382.995571\n",
            "\n",
            "==============================\n",
            "Dados de Teste\n",
            "==============================\n",
            "R²: 0.782891\n",
            "RMSE: 696189.327147\n"
          ]
        }
      ]
    },
    {
      "cell_type": "markdown",
      "source": [
        "O modelo de regressão random forest apresentou os melhores resultados mas é possível melhorar os modelos por otimização de hiperparâmetros. "
      ],
      "metadata": {
        "id": "1e5y2axYuNOZ"
      }
    },
    {
      "cell_type": "markdown",
      "source": [
        "###Otimização de hiperparâmetros"
      ],
      "metadata": {
        "id": "VYJsU2KWuFf2"
      }
    },
    {
      "cell_type": "markdown",
      "source": [
        "####Árvore de Decisão com Cross Validation"
      ],
      "metadata": {
        "id": "u_M___cRusuu"
      }
    },
    {
      "cell_type": "code",
      "source": [
        "from pyspark.ml.regression import DecisionTreeRegressor\n",
        "from pyspark.ml.tuning import CrossValidator, ParamGridBuilder\n",
        "from pyspark.ml.evaluation import RegressionEvaluator"
      ],
      "metadata": {
        "id": "WuMQUdlRu5-r"
      },
      "execution_count": 50,
      "outputs": []
    },
    {
      "cell_type": "code",
      "source": [
        "dtr = DecisionTreeRegressor()"
      ],
      "metadata": {
        "id": "4BFv3ejRu846"
      },
      "execution_count": 51,
      "outputs": []
    },
    {
      "cell_type": "code",
      "source": [
        "grid = ParamGridBuilder() \\\n",
        "    .addGrid(dtr.maxDepth, [2, 5, 10])\\\n",
        "    .addGrid(dtr.maxBins, [10, 32, 45])\\\n",
        "    .build() # Definição dos hiperparametros a serem testado, 3x3, gerando 9 combinações a serem avaliadas"
      ],
      "metadata": {
        "id": "bnO_SoR-vGMI"
      },
      "execution_count": 52,
      "outputs": []
    },
    {
      "cell_type": "code",
      "source": [
        "evaluator = RegressionEvaluator()\n",
        "dtc_cv = CrossValidator(\n",
        "    estimator=dtr,\n",
        "    estimatorParamMaps=grid,\n",
        "    evaluator=evaluator,\n",
        "    numFolds=3,\n",
        "    seed = 101\n",
        "    )"
      ],
      "metadata": {
        "id": "AprcqIejvMZX"
      },
      "execution_count": 57,
      "outputs": []
    },
    {
      "cell_type": "code",
      "source": [
        "modelo_dtc_cv = dtc_cv.fit(treino)"
      ],
      "metadata": {
        "id": "rhOkzu6avRWQ"
      },
      "execution_count": 58,
      "outputs": []
    },
    {
      "cell_type": "code",
      "source": [
        "previsoes_dtr_cv_teste = modelo_dtc_cv.transform(teste)"
      ],
      "metadata": {
        "id": "VRdcOqdtvwvJ"
      },
      "execution_count": 61,
      "outputs": []
    },
    {
      "cell_type": "code",
      "source": [
        "print('Árvore de Decisão')\n",
        "print(\"=\"*30)\n",
        "print(\"Sem Cross Validation\")\n",
        "print(\"=\"*30)\n",
        "print(\"R²: %f\" % evaluator.evaluate(previsoes_dtr_teste, {evaluator.metricName: \"r2\"}))\n",
        "print(\"RMSE: %f\" % evaluator.evaluate(previsoes_dtr_teste, {evaluator.metricName: \"rmse\"}))\n",
        "print(\"\")\n",
        "print(\"=\"*30)\n",
        "print(\"Com Cross Validation\")\n",
        "print(\"=\"*30)\n",
        "print(\"R²: %f\" % evaluator.evaluate(previsoes_dtr_cv_teste, {evaluator.metricName: \"r2\"}))\n",
        "print(\"RMSE: %f\" % evaluator.evaluate(previsoes_dtr_cv_teste, {evaluator.metricName: \"rmse\"}))"
      ],
      "metadata": {
        "colab": {
          "base_uri": "https://localhost:8080/"
        },
        "id": "3WlQzReCzyKl",
        "outputId": "49b4ee6b-1316-499a-c349-6cbd193a10c3"
      },
      "execution_count": 62,
      "outputs": [
        {
          "output_type": "stream",
          "name": "stdout",
          "text": [
            "Árvore de Decisão\n",
            "==============================\n",
            "Sem Cross Validation\n",
            "==============================\n",
            "R²: 0.773491\n",
            "RMSE: 711100.415996\n",
            "\n",
            "==============================\n",
            "Com Cross Validation\n",
            "==============================\n",
            "R²: 0.787604\n",
            "RMSE: 688591.204464\n"
          ]
        }
      ]
    },
    {
      "cell_type": "markdown",
      "source": [
        "####Random Forest com Cross Validation"
      ],
      "metadata": {
        "id": "cVp3WTn-0gHF"
      }
    },
    {
      "cell_type": "code",
      "source": [
        "from pyspark.ml.regression import RandomForestRegressor\n",
        "rfr = RandomForestRegressor()"
      ],
      "metadata": {
        "id": "Bn74eCGD0iom"
      },
      "execution_count": 63,
      "outputs": []
    },
    {
      "cell_type": "code",
      "source": [
        "grid = ParamGridBuilder() \\\n",
        "    .addGrid(rfr.numTrees, [10, 30]) \\\n",
        "    .addGrid(rfr.maxDepth, [5, 10]) \\\n",
        "    .addGrid(rfr.maxBins, [10, 45]) \\\n",
        "    .build() # 8 Combinações de hiperparametros"
      ],
      "metadata": {
        "id": "yEljiqSd0qgj"
      },
      "execution_count": 64,
      "outputs": []
    },
    {
      "cell_type": "code",
      "source": [
        "evaluator = RegressionEvaluator()\n",
        "rfr_cv = CrossValidator(\n",
        "    estimator=rfr,\n",
        "    estimatorParamMaps=grid,\n",
        "    evaluator=evaluator,\n",
        "    numFolds=3\n",
        ")"
      ],
      "metadata": {
        "id": "bffp7cZf048n"
      },
      "execution_count": 65,
      "outputs": []
    },
    {
      "cell_type": "code",
      "source": [
        "modelo_rfr_cv = rfr_cv.fit(treino)"
      ],
      "metadata": {
        "id": "-2C06ZD10_zx"
      },
      "execution_count": 66,
      "outputs": []
    },
    {
      "cell_type": "code",
      "source": [
        "previsoes_rfr_cv_teste = modelo_rfr_cv.transform(teste)"
      ],
      "metadata": {
        "id": "lDeZj0Wo1B8N"
      },
      "execution_count": 67,
      "outputs": []
    },
    {
      "cell_type": "code",
      "source": [
        "print('Random Forest')\n",
        "print(\"=\"*30)\n",
        "print(\"Sem Cross Validation\")\n",
        "print(\"=\"*30)\n",
        "print(\"R²: %f\" % evaluator.evaluate(previsoes_rfr_teste, {evaluator.metricName: \"r2\"}))\n",
        "print(\"RMSE: %f\" % evaluator.evaluate(previsoes_rfr_teste, {evaluator.metricName: \"rmse\"}))\n",
        "print(\"\")\n",
        "print(\"=\"*30)\n",
        "print(\"Com Cross Validation\")\n",
        "print(\"=\"*30)\n",
        "print(\"R²: %f\" % evaluator.evaluate(previsoes_rfr_cv_teste, {evaluator.metricName: \"r2\"}))\n",
        "print(\"RMSE: %f\" % evaluator.evaluate(previsoes_rfr_cv_teste, {evaluator.metricName: \"rmse\"}))"
      ],
      "metadata": {
        "colab": {
          "base_uri": "https://localhost:8080/"
        },
        "id": "ra-tw7g81EWh",
        "outputId": "731b2751-0d42-4abf-d15b-60a77134c5b4"
      },
      "execution_count": 68,
      "outputs": [
        {
          "output_type": "stream",
          "name": "stdout",
          "text": [
            "Random Forest\n",
            "==============================\n",
            "Sem Cross Validation\n",
            "==============================\n",
            "R²: 0.782891\n",
            "RMSE: 696189.327147\n",
            "\n",
            "==============================\n",
            "Com Cross Validation\n",
            "==============================\n",
            "R²: 0.826085\n",
            "RMSE: 623098.755603\n"
          ]
        }
      ]
    },
    {
      "cell_type": "markdown",
      "source": [
        "###Conclusão"
      ],
      "metadata": {
        "id": "bLWmjfJiYUXI"
      }
    },
    {
      "cell_type": "markdown",
      "source": [
        "Foi possivel desenvolver um modelo de machine learning com coeficiente de determinação de 0,826 para predição dos valores de venda de imóveis no Rio de Janeiro. O modelo com o melhor desempenho foi o random forest utilizando cross validation."
      ],
      "metadata": {
        "id": "sEJOTQkhYWqd"
      }
    }
  ]
}