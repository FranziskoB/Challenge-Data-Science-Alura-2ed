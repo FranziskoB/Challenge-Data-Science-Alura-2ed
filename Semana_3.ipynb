{
  "cells": [
    {
      "cell_type": "markdown",
      "metadata": {
        "id": "view-in-github",
        "colab_type": "text"
      },
      "source": [
        "<a href=\"https://colab.research.google.com/github/FranziskoB/Challenge-Data-Science-Alura-2ed/blob/main/Semana_3.ipynb\" target=\"_parent\"><img src=\"https://colab.research.google.com/assets/colab-badge.svg\" alt=\"Open In Colab\"/></a>"
      ]
    },
    {
      "cell_type": "markdown",
      "metadata": {
        "id": "hdVDcQwmFlUB"
      },
      "source": [
        "#Desafio Data Science Alura"
      ]
    },
    {
      "cell_type": "markdown",
      "metadata": {
        "id": "oceUSU6oGMuB"
      },
      "source": [
        "A imobiliária InsightPlaces, situada na cidade do Rio de Janeiro, está enfrentando dificuldades para alugar e vender imóveis. Em uma pesquisa de como empresas semelhantes operam no mercado, a InsightPlaces percebeu que esse problema pode estar relacionado aos valores dos imóveis e às recomendações realizadas em seu site.\n",
        "\n",
        "Dentro desse contexto, como podemos definir de forma eficiente os preços dos imóveis lidando com grandes volumes de dados? É importante recomendar imóveis utilizando outro critério? O que precisa ser feito?\n",
        "\n",
        "Você faz parte do time de Ciência de Dados e Big Data da InsightPlaces e ficou responsável por auxiliar no processo de análise de dados dos imóveis, que estão localizados em alguns bairros da cidade do Rio de Janeiro.\n",
        "\n",
        "Esse projeto tem algumas etapas como: ler e fazer o tratamento do histórico dos preços de imóveis no Rio de Janeiro, construir um modelo de regressão para precificar imóveis e, por último, criar um recomendador de imóveis. Para cada uma dessas etapas, vamos utilizar a ferramenta PySpark, que oferece uma melhor performance ao trabalharmos com grandes volumes de dados."
      ]
    },
    {
      "cell_type": "markdown",
      "metadata": {
        "id": "5QdxGRINHxZo"
      },
      "source": [
        "#Semana 3"
      ]
    },
    {
      "cell_type": "markdown",
      "metadata": {
        "id": "6elKyL3GH2TI"
      },
      "source": [
        "Criando um modelo de recomendação com PySpark"
      ]
    },
    {
      "cell_type": "markdown",
      "metadata": {
        "id": "IUTMjMo9JSJ5"
      },
      "source": [
        "### Configurando o Spark no Google Colab"
      ]
    },
    {
      "cell_type": "code",
      "execution_count": 2,
      "metadata": {
        "id": "4YDKwhZDFUJu"
      },
      "outputs": [],
      "source": [
        "# instalar as dependências\n",
        "!apt-get update -qq\n",
        "!apt-get install openjdk-8-jdk-headless -qq > /dev/null\n",
        "!wget -q https://archive.apache.org/dist/spark/spark-3.1.2/spark-3.1.2-bin-hadoop2.7.tgz\n",
        "!tar xf spark-3.1.2-bin-hadoop2.7.tgz\n",
        "!pip install -q findspark"
      ]
    },
    {
      "cell_type": "code",
      "execution_count": 3,
      "metadata": {
        "id": "s7JLBTA_JhTO"
      },
      "outputs": [],
      "source": [
        "import os\n",
        "os.environ[\"JAVA_HOME\"] = \"/usr/lib/jvm/java-8-openjdk-amd64\"\n",
        "os.environ[\"SPARK_HOME\"] = \"/content/spark-3.1.2-bin-hadoop2.7\""
      ]
    },
    {
      "cell_type": "code",
      "execution_count": 4,
      "metadata": {
        "id": "VlUZokkYJjRr"
      },
      "outputs": [],
      "source": [
        "import findspark\n",
        "findspark.init()"
      ]
    },
    {
      "cell_type": "markdown",
      "metadata": {
        "id": "2SDU7MT8J7MG"
      },
      "source": [
        "#### Acessando o Spark UI (Google Colab)n"
      ]
    },
    {
      "cell_type": "markdown",
      "metadata": {
        "id": "Ri807bEgLHxD"
      },
      "source": [
        "Uma SparkSession pode ser utilizada para criar DataFrames, registrar DataFrames como tabelas, executar consultas SQL em tabelas, armazenar em cache e ler arquivos parquet."
      ]
    },
    {
      "cell_type": "code",
      "execution_count": 5,
      "metadata": {
        "id": "kwHazMWSLMFx"
      },
      "outputs": [],
      "source": [
        "from pyspark.sql import SparkSession\n",
        "\n",
        "spark = SparkSession.builder \\\n",
        "    .master('local[*]') \\\n",
        "    .appName(\"Iniciando com Spark\") \\\n",
        "    .config('spark.ui.port', '4050') \\\n",
        "    .getOrCreate()"
      ]
    },
    {
      "cell_type": "code",
      "execution_count": 6,
      "metadata": {
        "colab": {
          "base_uri": "https://localhost:8080/"
        },
        "id": "oKtYqA4ZLzC0",
        "outputId": "e80bd386-710e-4ed6-d26a-2afd79d0e385"
      },
      "outputs": [
        {
          "output_type": "stream",
          "name": "stdout",
          "text": [
            "Archive:  ngrok-stable-linux-amd64.zip\n",
            "  inflating: ngrok                   \n"
          ]
        }
      ],
      "source": [
        "!wget -q https://bin.equinox.io/c/4VmDzA7iaHb/ngrok-stable-linux-amd64.zip\n",
        "!unzip ngrok-stable-linux-amd64.zip"
      ]
    },
    {
      "cell_type": "code",
      "execution_count": 7,
      "metadata": {
        "id": "1k3PiqOxL0zt"
      },
      "outputs": [],
      "source": [
        "get_ipython().system_raw('./ngrok http 4050 &')"
      ]
    },
    {
      "cell_type": "code",
      "execution_count": 8,
      "metadata": {
        "colab": {
          "base_uri": "https://localhost:8080/"
        },
        "id": "RB00qYEAL2v5",
        "outputId": "0f8b3b5a-f5d8-4be3-eb2f-106cbbe54352"
      },
      "outputs": [
        {
          "output_type": "stream",
          "name": "stdout",
          "text": [
            "{\"tunnels\":[],\"uri\":\"/api/tunnels\"}\n"
          ]
        }
      ],
      "source": [
        "!curl -s http://localhost:4040/api/tunnels"
      ]
    },
    {
      "cell_type": "markdown",
      "metadata": {
        "id": "7j6DGqUtMBJK"
      },
      "source": [
        "### Carregamento de dados"
      ]
    },
    {
      "cell_type": "markdown",
      "metadata": {
        "id": "P0FBSEpZMPAJ"
      },
      "source": [
        "Descrição de cada variável do dataset\n",
        "*   id ->\tCódigo de identificação do anúncio no sistema da InsightPlaces\n",
        "*   tipo_unidade ->\tTipo de imóvel (apartamento, casa e outros)\n",
        "*   tipo_uso ->\tTipo de uso do imóvel (residencial ou comercial)\n",
        "*   area_total ->\tÁrea total do imóvel (construção e terreno)\n",
        "*   area_util ->\tÁrea construída do imóvel\n",
        "*   quartos ->\tQuantidade de quartos do imóvel\n",
        "*   suites ->\tQuantidade de suítes do imóvel\n",
        "*   banheiros ->\tQuantidade de banheiros do imóvel\n",
        "*   vaga ->\tQuantidade de vagas de garagem do imóvel\n",
        "*   caracteristicas ->\tListagem de características do imóvel\n",
        "*   andar ->\tNúmero do andar do imóvel\n",
        "*   endereco ->\tInformações sobre o endereço do imóvel\n",
        "*   valores ->\tInformações sobre valores de venda e locação dos imóveis\n",
        "\n",
        "\n"
      ]
    },
    {
      "cell_type": "code",
      "execution_count": 9,
      "metadata": {
        "id": "zovo_23GP9Rn"
      },
      "outputs": [],
      "source": [
        "import zipfile\n",
        "import requests\n",
        "from io import BytesIO\n",
        "import os"
      ]
    },
    {
      "cell_type": "code",
      "execution_count": 10,
      "metadata": {
        "id": "dcn5ck4BMw_v"
      },
      "outputs": [],
      "source": [
        "os.makedirs(\"./dados\",exist_ok=True) # Criando uma pasta no google colab"
      ]
    },
    {
      "cell_type": "code",
      "execution_count": 11,
      "metadata": {
        "id": "AICZogr0MzOg"
      },
      "outputs": [],
      "source": [
        "path = 'https://github.com/FranziskoB/Challenge-Data-Science-Alura-2ed/raw/main/dados/semana_3_4.zip' # Local do arquivo zip\n",
        "filebytes = BytesIO(\n",
        "    requests.get(path).content\n",
        ")\n",
        "myzip = zipfile.ZipFile(filebytes)\n",
        "myzip.extractall(\"./dados\") #Salvando os dados na pasta criada"
      ]
    },
    {
      "cell_type": "code",
      "execution_count": 12,
      "metadata": {
        "id": "kjiTYDiDRSYv"
      },
      "outputs": [],
      "source": [
        "dados = spark.read.parquet(\"/content/dados/semana_2\") # Importando os dados"
      ]
    },
    {
      "cell_type": "code",
      "execution_count": 13,
      "metadata": {
        "colab": {
          "base_uri": "https://localhost:8080/"
        },
        "id": "YCpZokXkSmk9",
        "outputId": "f604e648-c784-4f39-baf4-768b81978308"
      },
      "outputs": [
        {
          "output_type": "execute_result",
          "data": {
            "text/plain": [
              "66551"
            ]
          },
          "metadata": {},
          "execution_count": 13
        }
      ],
      "source": [
        "dados.count() # Número de registros carregados"
      ]
    },
    {
      "cell_type": "markdown",
      "metadata": {
        "id": "QvqM0aI1aYWs"
      },
      "source": [
        "### Visualizando os dados"
      ]
    },
    {
      "cell_type": "markdown",
      "metadata": {
        "id": "hbHkujararcx"
      },
      "source": [
        "Os primeiro 5 valores\n"
      ]
    },
    {
      "cell_type": "code",
      "execution_count": 14,
      "metadata": {
        "colab": {
          "base_uri": "https://localhost:8080/"
        },
        "id": "bhvowWkCa2sG",
        "outputId": "eadb1aef-96a2-4330-8830-f1474d684311"
      },
      "outputs": [
        {
          "output_type": "stream",
          "name": "stdout",
          "text": [
            "+------------------------------------+-----+---------+---------+-------+------+----+---------------+----------+----------+-------+---------+--------+------------------+-------------+------------------+--------+-------+----------+------------+-----------------+------------+------------+----------+----------+--------+\n",
            "|id                                  |andar|area_util|banheiros|quartos|suites|vaga|bairro         |zona      |condominio|iptu   |valor    |Academia|Animais_permitidos|Churrasqueira|Condominio_fechado|Elevador|Piscina|Playground|Portaria_24h|Portao_eletronico|Salao_festas|Zona_Central|Zona_Norte|Zona_Oeste|Zona_Sul|\n",
            "+------------------------------------+-----+---------+---------+-------+------+----+---------------+----------+----------+-------+---------+--------+------------------+-------------+------------------+--------+-------+----------+------------+-----------------+------------+------------+----------+----------+--------+\n",
            "|00790b85-56e3-43a5-a499-9e4c3708b95c|11   |166.0    |5        |4      |4     |2   |Jacarepaguá    |Zona Oeste|2100      |4600.0 |1750000.0|1       |1                 |1            |1                 |1       |1      |1         |1           |1                |1           |0           |0         |1         |0       |\n",
            "|007f8099-8e1d-45f6-9cdf-dee58ea462f4|4    |640.0    |5        |11     |3     |0   |Urca           |Zona Sul  |3060      |20030.0|3800000.0|0       |1                 |0            |0                 |0       |0      |0         |0           |1                |0           |0           |0         |0         |1       |\n",
            "|00b23c6d-0e9d-4be3-a4cc-cf64ca06f3d2|1    |50.0     |1        |2      |0     |1   |Parada de Lucas|Zona Norte|363       |97.0   |192000.0 |1       |1                 |1            |1                 |0       |1      |1         |1           |0                |1           |0           |1         |0         |0       |\n",
            "|012aebd7-278f-4b4f-b621-a7b0b0f15201|0    |160.0    |4        |3      |1     |3   |Ipanema        |Zona Sul  |1530      |7440.0 |3490000.0|0       |0                 |0            |0                 |1       |0      |0         |0           |0                |0           |0           |0         |0         |1       |\n",
            "|0267dcdb-7705-44ad-b4f5-fa94720aa3cc|0    |52.0     |1        |2      |1     |1   |Pechincha      |Zona Oeste|0         |0.0    |440000.0 |0       |0                 |1            |0                 |0       |1      |1         |0           |0                |1           |0           |0         |1         |0       |\n",
            "+------------------------------------+-----+---------+---------+-------+------+----+---------------+----------+----------+-------+---------+--------+------------------+-------------+------------------+--------+-------+----------+------------+-----------------+------------+------------+----------+----------+--------+\n",
            "only showing top 5 rows\n",
            "\n",
            "root\n",
            " |-- id: string (nullable = true)\n",
            " |-- andar: integer (nullable = true)\n",
            " |-- area_util: double (nullable = true)\n",
            " |-- banheiros: integer (nullable = true)\n",
            " |-- quartos: integer (nullable = true)\n",
            " |-- suites: integer (nullable = true)\n",
            " |-- vaga: integer (nullable = true)\n",
            " |-- bairro: string (nullable = true)\n",
            " |-- zona: string (nullable = true)\n",
            " |-- condominio: integer (nullable = true)\n",
            " |-- iptu: double (nullable = true)\n",
            " |-- valor: double (nullable = true)\n",
            " |-- Academia: integer (nullable = true)\n",
            " |-- Animais_permitidos: integer (nullable = true)\n",
            " |-- Churrasqueira: integer (nullable = true)\n",
            " |-- Condominio_fechado: integer (nullable = true)\n",
            " |-- Elevador: integer (nullable = true)\n",
            " |-- Piscina: integer (nullable = true)\n",
            " |-- Playground: integer (nullable = true)\n",
            " |-- Portaria_24h: integer (nullable = true)\n",
            " |-- Portao_eletronico: integer (nullable = true)\n",
            " |-- Salao_festas: integer (nullable = true)\n",
            " |-- Zona_Central: integer (nullable = true)\n",
            " |-- Zona_Norte: integer (nullable = true)\n",
            " |-- Zona_Oeste: integer (nullable = true)\n",
            " |-- Zona_Sul: integer (nullable = true)\n",
            "\n"
          ]
        }
      ],
      "source": [
        "dados.show(5,truncate=False)\n",
        "dados.printSchema()"
      ]
    },
    {
      "cell_type": "markdown",
      "source": [],
      "metadata": {
        "id": "2kLlRKCYV9u7"
      }
    },
    {
      "cell_type": "markdown",
      "metadata": {
        "id": "KAe8XvhKWIqQ"
      },
      "source": [
        "## Preparando os dados para a padronização"
      ]
    },
    {
      "cell_type": "code",
      "source": [
        "X = dados.columns\n",
        "X.remove('zona')\n",
        "X.remove('bairro')\n",
        "X.remove('id')\n",
        "X"
      ],
      "metadata": {
        "colab": {
          "base_uri": "https://localhost:8080/"
        },
        "id": "EA0z5O3pWBkL",
        "outputId": "94da83d2-b469-49ea-e902-8988b8ce58c1"
      },
      "execution_count": 19,
      "outputs": [
        {
          "output_type": "execute_result",
          "data": {
            "text/plain": [
              "['andar',\n",
              " 'area_util',\n",
              " 'banheiros',\n",
              " 'quartos',\n",
              " 'suites',\n",
              " 'vaga',\n",
              " 'condominio',\n",
              " 'iptu',\n",
              " 'valor',\n",
              " 'Academia',\n",
              " 'Animais_permitidos',\n",
              " 'Churrasqueira',\n",
              " 'Condominio_fechado',\n",
              " 'Elevador',\n",
              " 'Piscina',\n",
              " 'Playground',\n",
              " 'Portaria_24h',\n",
              " 'Portao_eletronico',\n",
              " 'Salao_festas',\n",
              " 'Zona_Central',\n",
              " 'Zona_Norte',\n",
              " 'Zona_Oeste',\n",
              " 'Zona_Sul']"
            ]
          },
          "metadata": {},
          "execution_count": 19
        }
      ]
    },
    {
      "cell_type": "code",
      "source": [
        "from pyspark.ml.feature import VectorAssembler\n",
        "dados_encoded_vector = VectorAssembler(inputCols=X, outputCol='features').transform(dados) # Criando um vetor com as features\n",
        "dados_encoded_vector.select('features').show(truncate=False, n=5)"
      ],
      "metadata": {
        "colab": {
          "base_uri": "https://localhost:8080/"
        },
        "id": "pbpsEJc3WSK0",
        "outputId": "d50d39c1-633d-4881-f4ba-7630e99716ed"
      },
      "execution_count": 20,
      "outputs": [
        {
          "output_type": "stream",
          "name": "stdout",
          "text": [
            "+------------------------------------------------------------------------------------------------------------+\n",
            "|features                                                                                                    |\n",
            "+------------------------------------------------------------------------------------------------------------+\n",
            "|[11.0,166.0,5.0,4.0,4.0,2.0,2100.0,4600.0,1750000.0,1.0,1.0,1.0,1.0,1.0,1.0,1.0,1.0,1.0,1.0,0.0,0.0,1.0,0.0]|\n",
            "|(23,[0,1,2,3,4,6,7,8,10,17,22],[4.0,640.0,5.0,11.0,3.0,3060.0,20030.0,3800000.0,1.0,1.0,1.0])               |\n",
            "|[1.0,50.0,1.0,2.0,0.0,1.0,363.0,97.0,192000.0,1.0,1.0,1.0,1.0,0.0,1.0,1.0,1.0,0.0,1.0,0.0,1.0,0.0,0.0]      |\n",
            "|(23,[1,2,3,4,5,6,7,8,13,22],[160.0,4.0,3.0,1.0,3.0,1530.0,7440.0,3490000.0,1.0,1.0])                        |\n",
            "|(23,[1,2,3,4,5,8,11,14,15,18,21],[52.0,1.0,2.0,1.0,1.0,440000.0,1.0,1.0,1.0,1.0,1.0])                       |\n",
            "+------------------------------------------------------------------------------------------------------------+\n",
            "only showing top 5 rows\n",
            "\n"
          ]
        }
      ]
    },
    {
      "cell_type": "markdown",
      "source": [
        "## Construção do recomendador a partir da padronização dos dados"
      ],
      "metadata": {
        "id": "16vzUat144Qc"
      }
    },
    {
      "cell_type": "code",
      "source": [
        "from pyspark.ml.feature import StandardScaler\n",
        "scaler =StandardScaler(inputCol='features', outputCol='features_scaled_padronizado') #\n",
        "model_scaler = scaler.fit(dados_encoded_vector)\n",
        "dados_imoveis_scaler = model_scaler.transform(dados_encoded_vector)"
      ],
      "metadata": {
        "id": "lphsXWVLWXLL"
      },
      "execution_count": 21,
      "outputs": []
    },
    {
      "cell_type": "code",
      "source": [
        "dados_imoveis_scaler.show()"
      ],
      "metadata": {
        "colab": {
          "base_uri": "https://localhost:8080/"
        },
        "id": "VFkxJWlLXAbu",
        "outputId": "7c96b87a-f2b4-4e8b-dd61-684af90096ce"
      },
      "execution_count": 22,
      "outputs": [
        {
          "output_type": "stream",
          "name": "stdout",
          "text": [
            "+--------------------+-----+---------+---------+-------+------+----+--------------------+----------+----------+-------+---------+--------+------------------+-------------+------------------+--------+-------+----------+------------+-----------------+------------+------------+----------+----------+--------+--------------------+---------------------------+\n",
            "|                  id|andar|area_util|banheiros|quartos|suites|vaga|              bairro|      zona|condominio|   iptu|    valor|Academia|Animais_permitidos|Churrasqueira|Condominio_fechado|Elevador|Piscina|Playground|Portaria_24h|Portao_eletronico|Salao_festas|Zona_Central|Zona_Norte|Zona_Oeste|Zona_Sul|            features|features_scaled_padronizado|\n",
            "+--------------------+-----+---------+---------+-------+------+----+--------------------+----------+----------+-------+---------+--------+------------------+-------------+------------------+--------+-------+----------+------------+-----------------+------------+------------+----------+----------+--------+--------------------+---------------------------+\n",
            "|00790b85-56e3-43a...|   11|    166.0|        5|      4|     4|   2|         Jacarepaguá|Zona Oeste|      2100| 4600.0|1750000.0|       1|                 1|            1|                 1|       1|      1|         1|           1|                1|           1|           0|         0|         1|       0|[11.0,166.0,5.0,4...|       [0.74842494361382...|\n",
            "|007f8099-8e1d-45f...|    4|    640.0|        5|     11|     3|   0|                Urca|  Zona Sul|      3060|20030.0|3800000.0|       0|                 1|            0|                 0|       0|      0|         0|           0|                1|           0|           0|         0|         0|       1|(23,[0,1,2,3,4,6,...|       (23,[0,1,2,3,4,6,...|\n",
            "|00b23c6d-0e9d-4be...|    1|     50.0|        1|      2|     0|   1|     Parada de Lucas|Zona Norte|       363|   97.0| 192000.0|       1|                 1|            1|                 1|       0|      1|         1|           1|                0|           1|           0|         1|         0|       0|[1.0,50.0,1.0,2.0...|       [0.06803863123762...|\n",
            "|012aebd7-278f-4b4...|    0|    160.0|        4|      3|     1|   3|             Ipanema|  Zona Sul|      1530| 7440.0|3490000.0|       0|                 0|            0|                 0|       1|      0|         0|           0|                0|           0|           0|         0|         0|       1|(23,[1,2,3,4,5,6,...|       (23,[1,2,3,4,5,6,...|\n",
            "|0267dcdb-7705-44a...|    0|     52.0|        1|      2|     1|   1|           Pechincha|Zona Oeste|         0|    0.0| 440000.0|       0|                 0|            1|                 0|       0|      1|         1|           0|                0|           1|           0|         0|         1|       0|(23,[1,2,3,4,5,8,...|       (23,[1,2,3,4,5,8,...|\n",
            "|02ad9d93-7b89-46b...|    0|    219.0|        4|      4|     2|   3|     Barra da Tijuca|Zona Oeste|      2800| 5855.0|2300000.0|       1|                 0|            1|                 1|       1|      1|         1|           1|                1|           1|           0|         0|         1|       0|[0.0,219.0,4.0,4....|       [0.0,2.4580229113...|\n",
            "|02ef01fe-9333-40f...|    0|     75.0|        2|      3|     1|   1|            Botafogo|  Zona Sul|        10|   10.0|1345000.0|       1|                 0|            0|                 1|       1|      1|         1|           1|                1|           1|           0|         0|         0|       1|[0.0,75.0,2.0,3.0...|       [0.0,0.8417886682...|\n",
            "|04171318-00f9-430...|    0|     82.0|        2|      3|     1|   1|Recreio dos Bande...|Zona Oeste|       870| 1900.0| 484999.0|       1|                 1|            1|                 1|       1|      1|         0|           1|                1|           1|           0|         0|         1|       0|[0.0,82.0,2.0,3.0...|       [0.0,0.9203556106...|\n",
            "|04a03e35-1a8b-4fc...|    0|    187.0|        5|      4|     2|   3|     Barra da Tijuca|Zona Oeste|      2600| 5800.0|1950000.0|       1|                 1|            1|                 1|       1|      1|         1|           0|                1|           1|           0|         0|         1|       0|[0.0,187.0,5.0,4....|       [0.0,2.0988597462...|\n",
            "|04a8d9c5-daca-44f...|    8|    132.0|        3|      4|     2|   2|         Jacarepaguá|Zona Oeste|         1|    1.0|1330000.0|       1|                 1|            1|                 1|       1|      1|         1|           1|                1|           1|           0|         0|         1|       0|[8.0,132.0,3.0,4....|       [0.54430904990096...|\n",
            "|058e6011-b830-455...|   11|    153.0|        4|      3|     2|   2|               Gávea|  Zona Sul|      2200|  350.0|3100000.0|       0|                 0|            0|                 0|       0|      0|         0|           0|                0|           0|           0|         0|         0|       1|(23,[0,1,2,3,4,5,...|       (23,[0,1,2,3,4,5,...|\n",
            "|05beb775-9afa-428...|    2|     80.0|        1|      3|     0|   1|          Copacabana|  Zona Sul|       940|  160.0| 749000.0|       1|                 1|            0|                 1|       1|      0|         0|           1|                1|           1|           0|         0|         0|       1|[2.0,80.0,1.0,3.0...|       [0.13607726247524...|\n",
            "|067673ae-4b0f-444...|    0|    148.0|        3|      3|     1|   1|          Copacabana|  Zona Sul|      1500| 3800.0|1100000.0|       0|                 0|            0|                 0|       0|      0|         0|           0|                0|           1|           0|         0|         0|       1|(23,[1,2,3,4,5,6,...|       (23,[1,2,3,4,5,6,...|\n",
            "|07bd5c4a-e06d-4da...|    0|     52.0|        1|      2|     0|   1|         Jacarepaguá|Zona Oeste|       500|  300.0| 270000.0|       1|                 0|            1|                 1|       1|      1|         1|           0|                0|           1|           0|         0|         1|       0|[0.0,52.0,1.0,2.0...|       [0.0,0.5836401433...|\n",
            "|07d28395-2a02-485...|    0|    121.0|        2|      4|     1|   2|     Barra da Tijuca|Zona Oeste|      1460|    0.0|1150000.0|       0|                 0|            0|                 0|       0|      1|         0|           0|                0|           0|           0|         0|         1|       0|(23,[1,2,3,4,5,6,...|       (23,[1,2,3,4,5,6,...|\n",
            "|08f243b2-ff9f-447...|    0|    160.0|        6|      4|     4|   2|     Barra da Tijuca|Zona Oeste|      1920| 5000.0|1423000.0|       1|                 1|            1|                 1|       1|      1|         1|           1|                1|           1|           0|         0|         1|       0|[0.0,160.0,6.0,4....|       [0.0,1.7958158256...|\n",
            "|09a73a8c-7314-4dd...|    0|    214.0|        4|      4|     3|   2|            Botafogo|  Zona Sul|      1600|   10.0|3160000.0|       0|                 0|            0|                 1|       1|      1|         0|           0|                0|           0|           0|         0|         0|       1|(23,[1,2,3,4,5,6,...|       (23,[1,2,3,4,5,6,...|\n",
            "|09afc288-5ca7-40b...|    9|    102.0|        3|      3|     2|   1|              Tijuca|Zona Norte|      1000|   96.0|1120000.0|       1|                 1|            1|                 1|       1|      1|         1|           1|                1|           1|           0|         1|         0|       0|[9.0,102.0,3.0,3....|       [0.61234768113858...|\n",
            "|0a34687d-4c41-41b...|    2|    266.0|        4|      4|     0|   2|     Barra da Tijuca|Zona Oeste|      6000|    0.0|4955300.0|       1|                 1|            1|                 1|       1|      1|         1|           1|                1|           1|           0|         0|         1|       0|[2.0,266.0,4.0,4....|       [0.13607726247524...|\n",
            "|0a35241d-3051-40c...|    0|     65.0|        2|      2|     1|   1|Recreio dos Bande...|Zona Oeste|       900|    0.0| 615000.0|       1|                 1|            1|                 1|       1|      1|         1|           1|                1|           1|           0|         0|         1|       0|[0.0,65.0,2.0,2.0...|       [0.0,0.7295501791...|\n",
            "+--------------------+-----+---------+---------+-------+------+----+--------------------+----------+----------+-------+---------+--------+------------------+-------------+------------------+--------+-------+----------+------------+-----------------+------------+------------+----------+----------+--------+--------------------+---------------------------+\n",
            "only showing top 20 rows\n",
            "\n"
          ]
        }
      ]
    },
    {
      "cell_type": "markdown",
      "source": [
        "### Redução de dimensionalidade para os dados padronizados"
      ],
      "metadata": {
        "id": "amRlpi8rBxBd"
      }
    },
    {
      "cell_type": "code",
      "source": [
        "k = len(X)#Número de colunas\n",
        "k"
      ],
      "metadata": {
        "colab": {
          "base_uri": "https://localhost:8080/"
        },
        "id": "qFbntxtA_UZx",
        "outputId": "ca63b1fc-6dc2-4458-86a3-7eb6ecc768f2"
      },
      "execution_count": 25,
      "outputs": [
        {
          "output_type": "execute_result",
          "data": {
            "text/plain": [
              "23"
            ]
          },
          "metadata": {},
          "execution_count": 25
        }
      ]
    },
    {
      "cell_type": "code",
      "source": [
        "from pyspark.ml.feature import PCA\n",
        "pca = PCA(k=k, inputCol='features_scaled_padronizado', outputCol='pca_features')\n",
        "model_pca = pca.fit(dados_imoveis_scaler)\n",
        "dados_imoveis_pca = model_pca.transform(dados_imoveis_scaler)"
      ],
      "metadata": {
        "id": "LJmtmVit_Y_E"
      },
      "execution_count": 26,
      "outputs": []
    },
    {
      "cell_type": "code",
      "source": [
        "sum(model_pca.explainedVariance) * 100"
      ],
      "metadata": {
        "colab": {
          "base_uri": "https://localhost:8080/"
        },
        "id": "uo-eah00_2Vl",
        "outputId": "ad7abb8a-1350-4a3a-a55d-68914a6bd2a2"
      },
      "execution_count": 27,
      "outputs": [
        {
          "output_type": "execute_result",
          "data": {
            "text/plain": [
              "100.0"
            ]
          },
          "metadata": {},
          "execution_count": 27
        }
      ]
    },
    {
      "cell_type": "code",
      "source": [
        "lista_valores = [sum(model_pca.explainedVariance[0:i+1]) for i in range(k)]\n",
        "lista_valores"
      ],
      "metadata": {
        "colab": {
          "base_uri": "https://localhost:8080/"
        },
        "id": "U_4erTLC_69E",
        "outputId": "ec2cb77f-cf3e-4cbf-a062-5a614843df0f"
      },
      "execution_count": 28,
      "outputs": [
        {
          "output_type": "execute_result",
          "data": {
            "text/plain": [
              "[0.26545749360997906,\n",
              " 0.43752479497762575,\n",
              " 0.5287992767783378,\n",
              " 0.5831729986362509,\n",
              " 0.6354028103524807,\n",
              " 0.6820231562211665,\n",
              " 0.7262890569978809,\n",
              " 0.767891188168711,\n",
              " 0.802573009561382,\n",
              " 0.8297996535128769,\n",
              " 0.8541943996261356,\n",
              " 0.8742987112957071,\n",
              " 0.893509026526103,\n",
              " 0.9111213166741092,\n",
              " 0.9266283824349123,\n",
              " 0.940523160892775,\n",
              " 0.9525305733295915,\n",
              " 0.9638657310285278,\n",
              " 0.9739753651565951,\n",
              " 0.9832054875066532,\n",
              " 0.9921039340092809,\n",
              " 0.999999999999999,\n",
              " 1.0]"
            ]
          },
          "metadata": {},
          "execution_count": 28
        }
      ]
    },
    {
      "cell_type": "code",
      "source": [
        "import numpy as np\n",
        "k = sum(np.array(lista_valores) <= 0.9)#Selecionando o número de componentes que explicam no mínimo 90% da variabilidade dos dados\n",
        "k"
      ],
      "metadata": {
        "colab": {
          "base_uri": "https://localhost:8080/"
        },
        "id": "Lo2GynDtAWQF",
        "outputId": "6b16d030-a61f-49ee-d872-ded44709206a"
      },
      "execution_count": 29,
      "outputs": [
        {
          "output_type": "execute_result",
          "data": {
            "text/plain": [
              "13"
            ]
          },
          "metadata": {},
          "execution_count": 29
        }
      ]
    },
    {
      "cell_type": "code",
      "source": [
        "pca = PCA(k=k, inputCol='features_scaled_padronizado', outputCol='pca_features')\n",
        "model_pca = pca.fit(dados_imoveis_scaler)\n",
        "dados_imoveis_pca = model_pca.transform(dados_imoveis_scaler)"
      ],
      "metadata": {
        "id": "a4L6pkV5Bcg-"
      },
      "execution_count": 30,
      "outputs": []
    },
    {
      "cell_type": "code",
      "source": [
        "sum(model_pca.explainedVariance) * 100 # Percentual de explicação da variabilidade dos dados"
      ],
      "metadata": {
        "id": "kQVfFjxSBlGD",
        "outputId": "71dcd1cc-6865-41f2-9ff3-1ab95b6cba00",
        "colab": {
          "base_uri": "https://localhost:8080/"
        }
      },
      "execution_count": 31,
      "outputs": [
        {
          "output_type": "execute_result",
          "data": {
            "text/plain": [
              "89.3509026526103"
            ]
          },
          "metadata": {},
          "execution_count": 31
        }
      ]
    },
    {
      "cell_type": "markdown",
      "source": [
        "###  Aplicação do cluster com K-Means"
      ],
      "metadata": {
        "id": "t6GRNPc4D4Kt"
      }
    },
    {
      "cell_type": "markdown",
      "source": [
        "Definindo o número de clusters pelo método elbow"
      ],
      "metadata": {
        "id": "gzx8TJRdzgeY"
      }
    },
    {
      "cell_type": "code",
      "source": [
        "from pyspark.ml.clustering import KMeans"
      ],
      "metadata": {
        "id": "Bv-e27n6D7Ht"
      },
      "execution_count": 32,
      "outputs": []
    },
    {
      "cell_type": "code",
      "source": [
        "nmax=100\n",
        "cost = np.zeros(int(nmax/5))\n",
        "new_col=np.zeros(int(nmax/5))\n",
        "df=dados_imoveis_pca\n",
        "for k in range(2,nmax,5):\n",
        "    kmeans = KMeans().setK(k).setSeed(1).setFeaturesCol('pca_features')\n",
        "    model = kmeans.fit(df)\n",
        "    cost[int((k-2)/5)] = model.summary.trainingCost\n"
      ],
      "metadata": {
        "id": "ydCd1JvWH0vz"
      },
      "execution_count": 33,
      "outputs": []
    },
    {
      "cell_type": "code",
      "source": [
        "import pandas as pd\n",
        "df_cost = pd.DataFrame(cost[0:])\n",
        "df_cost.columns = [\"cost\"]\n",
        "new_col = list(range(2,nmax,5))\n",
        "df_cost.insert(0, 'cluster', new_col)\n",
        "\n",
        "import pylab as pl\n",
        "pl.plot(df_cost.cluster, df_cost.cost)\n",
        "pl.xlabel('Number of Clusters')\n",
        "pl.ylabel('Score')\n",
        "pl.title('Elbow Curve')\n",
        "pl.show()"
      ],
      "metadata": {
        "colab": {
          "base_uri": "https://localhost:8080/",
          "height": 295
        },
        "id": "PZ-bWn5XIt3y",
        "outputId": "086bae3c-94b2-494c-b98e-8681aad0138c"
      },
      "execution_count": 34,
      "outputs": [
        {
          "output_type": "display_data",
          "data": {
            "text/plain": [
              "<Figure size 432x288 with 1 Axes>"
            ],
            "image/png": "[encoded data removed]"
          },
          "metadata": {
            "needs_background": "light"
          }
        }
      ]
    },
    {
      "cell_type": "markdown",
      "source": [
        "Entre 30 e 40 clusters a curva fica mais horizontal então 35 clusters pode ser uma boa opção"
      ],
      "metadata": {
        "id": "DF7WxVZUzVEC"
      }
    },
    {
      "cell_type": "code",
      "source": [
        "k=35"
      ],
      "metadata": {
        "id": "BfC-dpI-1Vib"
      },
      "execution_count": 35,
      "outputs": []
    },
    {
      "cell_type": "code",
      "source": [
        "kmeans = KMeans(featuresCol='pca_features', predictionCol='cluster_pca').setK(k).setSeed(1)"
      ],
      "metadata": {
        "id": "9J1LwCb6zVMf"
      },
      "execution_count": 36,
      "outputs": []
    },
    {
      "cell_type": "code",
      "source": [
        "model_kmeans = kmeans.fit(dados_imoveis_pca)"
      ],
      "metadata": {
        "id": "bkKNWmvjzVMg"
      },
      "execution_count": 37,
      "outputs": []
    },
    {
      "cell_type": "code",
      "source": [
        "prections_kmeans = model_kmeans.transform(dados_imoveis_pca)"
      ],
      "metadata": {
        "id": "L65OPdQizVMg"
      },
      "execution_count": 38,
      "outputs": []
    },
    {
      "cell_type": "code",
      "source": [
        "from pyspark.sql import functions as f\n",
        "prections_kmeans\\\n",
        "    .select('cluster_pca','id', 'quartos', 'area_util', 'banheiros', 'valor', 'Academia', 'Churrasqueira')\\\n",
        "    .groupBy('cluster_pca')\\\n",
        "    .agg(\n",
        "        f.count(\"id\").alias(\"Numero_de_imoveis\"),\n",
        "        f.avg(\"quartos\").alias(\"N_medio_quartos\"),\n",
        "        f.avg(\"area_util\").alias(\"area_util_media\"),\n",
        "        f.avg(\"banheiros\").alias(\"N_medio_banheiros\"),\n",
        "        f.avg(\"valor\").alias(\"valor_medio\"),\n",
        "        (f.avg(\"Academia\")*100).alias(\"Percentual_de_imoveis_com_academia\"),\n",
        "        (f.avg(\"Churrasqueira\")*100).alias(\"Percentual_de_imoveis_com_Churrasqueira\"),        \n",
        "    )\\\n",
        "    .orderBy('valor_medio', ascending=True)\\\n",
        "    .show()"
      ],
      "metadata": {
        "colab": {
          "base_uri": "https://localhost:8080/"
        },
        "id": "zTYNBXbRRR64",
        "outputId": "1e3aec9f-332d-4a12-acc8-a0dc438f4502"
      },
      "execution_count": 39,
      "outputs": [
        {
          "output_type": "stream",
          "name": "stdout",
          "text": [
            "+-----------+-----------------+------------------+------------------+------------------+------------------+----------------------------------+---------------------------------------+\n",
            "|cluster_pca|Numero_de_imoveis|   N_medio_quartos|   area_util_media| N_medio_banheiros|       valor_medio|Percentual_de_imoveis_com_academia|Percentual_de_imoveis_com_Churrasqueira|\n",
            "+-----------+-----------------+------------------+------------------+------------------+------------------+----------------------------------+---------------------------------------+\n",
            "|         19|              495|1.3555555555555556| 47.42626262626263|1.1818181818181819| 316031.7696969697|                 8.484848484848486|                      4.848484848484849|\n",
            "|          5|              648|1.5987654320987654|46.239197530864196|1.1527777777777777|367218.00925925927|                 95.21604938271605|                       81.6358024691358|\n",
            "|         17|             1191| 2.120067170445004| 73.99412258606213| 1.638958858102435|375302.68681780016|                2.0990764063811924|                      8.564231738035264|\n",
            "|          3|             1430|2.1804195804195805|  73.0979020979021|1.6076923076923078| 446972.4174825175|                12.867132867132867|                      32.86713286713287|\n",
            "|         28|             4645|2.3681377825618943| 85.53907427341227|1.9494079655543595| 484021.3065662002|                0.3013993541442411|                     6.7168998923573735|\n",
            "|         14|             3838|2.0875455966649294| 70.12324127149557|1.6201146430432516|487314.95518499217|                2.5013027618551327|                      22.32933819697759|\n",
            "|         29|             3041|2.2689904636632687| 70.68365669187767|1.7467938178230844| 506160.0920749753|                 89.41137783623809|                      96.64584018414996|\n",
            "|         20|             1053|2.5185185185185186| 93.43969610636277|2.1538461538461537| 551067.7236467237|                 8.357075023741691|                      36.94207027540361|\n",
            "|          6|             8619|2.2835595776772246| 76.65506439262096|1.9093862397029817| 607636.7252581506|                 94.83698804965773|                      95.13864717484627|\n",
            "|          9|             1811|2.5422418553285477| 90.95748205411375| 2.334621755935947| 610205.4152401988|                29.983434566537824|                      67.25565985643291|\n",
            "|         18|             4800|          2.405625| 85.01833333333333|2.1233333333333335| 736030.8454166667|                 76.60416666666666|                                91.4375|\n",
            "|          2|             2720|1.4893382352941176| 58.40110294117647|1.2794117647058822| 759410.6823529411|                1.5073529411764706|                      2.463235294117647|\n",
            "|         33|             1616| 2.385519801980198| 90.87561881188118| 2.145420792079208| 862158.9746287129|                7.3638613861386135|                      64.72772277227723|\n",
            "|         26|               75|2.4266666666666667| 87.86666666666666|2.1866666666666665| 915969.6933333334|                 62.66666666666667|                                   64.0|\n",
            "|         31|             3859|1.9157812904897642| 75.75693184762892|1.6452448820938066| 918857.5400362788|                  4.56076703809277|                     2.6172583570873282|\n",
            "|         10|             2649| 3.160815402038505|145.80709701774254| 3.255190637976595|1337882.4171385427|                2.2272555681389203|                      11.06077765194413|\n",
            "|          0|             2163| 2.134073046694406| 84.88118354137772|1.9334257975034674|1451960.7226074897|                 92.04808136846971|                      77.90106333795654|\n",
            "|         34|             4349| 3.334099793055875|149.98666360082777| 3.271096803862957|1501862.6378477812|                 96.48194987353415|                      93.12485628880202|\n",
            "|         30|             1146|3.2862129144851657|198.03752181500872|3.5645724258289704| 1578292.787958115|                 2.094240837696335|                     11.169284467713787|\n",
            "|         27|             4257| 2.858350951374207|119.88700963119568| 2.455954897815363|1600483.2915198496|                1.8087855297157622|                      3.288700963119568|\n",
            "+-----------+-----------------+------------------+------------------+------------------+------------------+----------------------------------+---------------------------------------+\n",
            "only showing top 20 rows\n",
            "\n"
          ]
        }
      ]
    },
    {
      "cell_type": "markdown",
      "source": [
        "### Filtrar imóveis do mesmo cluster"
      ],
      "metadata": {
        "id": "j89e9P7wRLgr"
      }
    },
    {
      "cell_type": "markdown",
      "source": [
        "filtro para extrair as informações de ID de um imóvel e verificar quais imóveis pertencem ao mesmo cluster."
      ],
      "metadata": {
        "id": "zKIexINeo5s1"
      }
    },
    {
      "cell_type": "code",
      "source": [
        "id='0267dcdb-7705-44ad-b4f5-fa94720aa3cc'# id de exemplo\n",
        "cluster = prections_kmeans.filter(prections_kmeans.id == id).select('cluster_pca').collect()[0][0]\n",
        "print(\"O cluster do imóvel é\",cluster)\n",
        "ids= prections_kmeans.filter(prections_kmeans.cluster_pca == cluster).select('id').collect()\n",
        "print(\"\\nExemplo de outros imóveis desse mesmo cluster: \\n\")\n",
        "for i in ids[0:10]:\n",
        "  print(i[0])"
      ],
      "metadata": {
        "colab": {
          "base_uri": "https://localhost:8080/"
        },
        "id": "B3ffzVtPax7s",
        "outputId": "4313d169-a1db-4b6e-9e90-5c17eed586c5"
      },
      "execution_count": 40,
      "outputs": [
        {
          "output_type": "stream",
          "name": "stdout",
          "text": [
            "O cluster do imóvel é 18\n",
            "\n",
            "Exemplo de outros imóveis desse mesmo cluster: \n",
            "\n",
            "0267dcdb-7705-44ad-b4f5-fa94720aa3cc\n",
            "07bd5c4a-e06d-4dad-b9bb-905752252be1\n",
            "0a94150e-87e6-4ac5-9cd1-dd5a18b69bfc\n",
            "1bbd8ced-3b03-4500-99a8-ed249e3df9dc\n",
            "30f2b01a-1cfe-4bfc-877d-909cc78c36f9\n",
            "49b3977d-4f01-4d54-a1ec-c66d9bf23b71\n",
            "4d2a517f-a872-401f-89fb-e2773fca5969\n",
            "656d034a-100f-4f28-b035-2f8328dbe195\n",
            "67cc8249-f98f-4b53-8003-90f0b472db67\n",
            "6917480d-71e4-4321-9b7f-7893ebb57f74\n"
          ]
        }
      ]
    },
    {
      "cell_type": "markdown",
      "source": [
        "### Construção do recomendador 1"
      ],
      "metadata": {
        "id": "D6qO182gf3RP"
      }
    },
    {
      "cell_type": "code",
      "source": [
        "from scipy.spatial.distance import euclidean\n",
        "from pyspark.sql.types import FloatType"
      ],
      "metadata": {
        "id": "vOfrQ_JXgqF_"
      },
      "execution_count": 41,
      "outputs": []
    },
    {
      "cell_type": "code",
      "source": [
        "def recomendador_1(id):\n",
        "  cluster = prections_kmeans.filter(prections_kmeans.id == id).select('cluster_pca').collect()[0][0]\n",
        "  imoveis_recomendados = prections_kmeans.filter(prections_kmeans.cluster_pca == cluster)\n",
        "  componenetes_imoveis = imoveis_recomendados.filter(imoveis_recomendados.id == id)\\\n",
        "                                          .select('pca_features').collect()[0][0]\n",
        "\n",
        "  def calcula_distance(value):\n",
        "    return euclidean(componenetes_imoveis, value)\n",
        "\n",
        "  udf_calcula_distance = f.udf(calcula_distance, FloatType())\n",
        "\n",
        "  imoveis_recomendados_dist = imoveis_recomendados.withColumn('Dist', udf_calcula_distance('pca_features'))\n",
        "\n",
        "  recomendados = spark.createDataFrame(imoveis_recomendados_dist.sort('Dist').take(10)).drop('features','features_scaled_padronizado','pca_features','cluster_pca')\n",
        "\n",
        "  recomendados.show(truncate=False)"
      ],
      "metadata": {
        "id": "epWBbnZWf67q"
      },
      "execution_count": 108,
      "outputs": []
    },
    {
      "cell_type": "code",
      "source": [
        "recomendador_1(id)"
      ],
      "metadata": {
        "colab": {
          "base_uri": "https://localhost:8080/"
        },
        "id": "ngiqIyu5jgQM",
        "outputId": "6a779010-188e-4f98-804f-c105199ba9a1"
      },
      "execution_count": 76,
      "outputs": [
        {
          "output_type": "stream",
          "name": "stdout",
          "text": [
            "+------------------------------------+---------+-------+--------+--------------------+\n",
            "|id                                  |area_util|quartos|valor   |Dist                |\n",
            "+------------------------------------+---------+-------+--------+--------------------+\n",
            "|0267dcdb-7705-44ad-b4f5-fa94720aa3cc|52.0     |2      |440000.0|0.0                 |\n",
            "|5a9db79f-fb3a-4f5b-ad70-a930f90207af|59.0     |2      |350000.0|0.02921476773917675 |\n",
            "|12126cc3-23ae-48e9-97f1-8fc7b88371b1|58.0     |2      |398000.0|0.029499942436814308|\n",
            "|65782c32-8550-44e1-8cad-e82367ca2a40|59.0     |2      |319990.0|0.03238438442349434 |\n",
            "|c5e9c85a-a547-4d24-a926-a94985910043|59.0     |2      |320000.0|0.03265412524342537 |\n",
            "|120cb82b-5ea1-45cd-b1ee-19ff0b760d32|60.0     |2      |359000.0|0.03373928368091583 |\n",
            "|ee41b170-bb91-4bf4-913f-8f4b5a06a196|55.0     |2      |329000.0|0.03612254932522774 |\n",
            "|c374246b-65c4-4ef1-ab03-ffaf3935ab9a|59.0     |2      |289000.0|0.041100576519966125|\n",
            "|91cd8cb5-2bbd-40f8-8e0f-4fbc7327ffad|50.0     |2      |365000.0|0.04785017669200897 |\n",
            "|01db49be-98a4-41fb-b32c-4c7df46b5ead|53.0     |2      |300000.0|0.06013965234160423 |\n",
            "+------------------------------------+---------+-------+--------+--------------------+\n",
            "\n"
          ]
        }
      ]
    },
    {
      "cell_type": "markdown",
      "source": [
        "##Construção do recomendador a partir da normalização dos dados (Extra)"
      ],
      "metadata": {
        "id": "QKjw8uQ_fSSP"
      }
    },
    {
      "cell_type": "markdown",
      "source": [
        "Aplicando uma forma alternativa da padronização, devido a presença de muitas colunas com valores binários. A normalização deixa todos os dados entre 0 e 1"
      ],
      "metadata": {
        "id": "8KmT4cPUfaAo"
      }
    },
    {
      "cell_type": "code",
      "source": [
        "from pyspark.ml.feature import MinMaxScaler\n",
        "normal = MinMaxScaler(inputCol='features', outputCol='features_scaled_normal') #\n",
        "model_normal = normal.fit(dados_encoded_vector)\n",
        "dados_imoveis_normal = model_normal.transform(dados_encoded_vector)"
      ],
      "metadata": {
        "id": "Q9-92DhTnatM"
      },
      "execution_count": 56,
      "outputs": []
    },
    {
      "cell_type": "code",
      "source": [
        "from pyspark.ml.feature import PCA\n",
        "k=len(X)\n",
        "pca = PCA(k=k, inputCol='features_scaled_normal', outputCol='pca_features_norm')\n",
        "model_pca_norm = pca.fit(dados_imoveis_normal)\n",
        "dados_imoveis_pca_norm = model_pca_norm .transform(dados_imoveis_normal)"
      ],
      "metadata": {
        "id": "lV6ZCr48nj_Z"
      },
      "execution_count": 58,
      "outputs": []
    },
    {
      "cell_type": "code",
      "source": [
        "import numpy as np\n",
        "lista_valores = [sum(model_pca_norm.explainedVariance[0:i+1]) for i in range(k)]\n",
        "k = sum(np.array(lista_valores) <= 0.9)#Selecionando o número de componentes que explicam no mínimo 90% da variabilidade dos dados\n",
        "k"
      ],
      "metadata": {
        "colab": {
          "base_uri": "https://localhost:8080/"
        },
        "id": "jM5kiZrWoeQ8",
        "outputId": "130a016d-ca40-4cf5-902b-9eedf78109ab"
      },
      "execution_count": 61,
      "outputs": [
        {
          "output_type": "execute_result",
          "data": {
            "text/plain": [
              "7"
            ]
          },
          "metadata": {},
          "execution_count": 61
        }
      ]
    },
    {
      "cell_type": "code",
      "source": [
        "sum(model_pca.explainedVariance) * 100 # Percentual de explicação da variabilidade dos dados"
      ],
      "metadata": {
        "colab": {
          "base_uri": "https://localhost:8080/"
        },
        "id": "rOAlruqooqns",
        "outputId": "039afa27-fad7-4e8f-d48a-a1f260b726d3"
      },
      "execution_count": 62,
      "outputs": [
        {
          "output_type": "execute_result",
          "data": {
            "text/plain": [
              "89.3509026526103"
            ]
          },
          "metadata": {},
          "execution_count": 62
        }
      ]
    },
    {
      "cell_type": "markdown",
      "source": [
        "###  Aplicação do cluster com K-Means em dados normalizados"
      ],
      "metadata": {
        "id": "J0H0fhMKo2uG"
      }
    },
    {
      "cell_type": "markdown",
      "source": [
        "Definindo o número de clusters pelo método elbow"
      ],
      "metadata": {
        "id": "lriOBCI-o2uH"
      }
    },
    {
      "cell_type": "code",
      "source": [
        "from pyspark.ml.clustering import KMeans"
      ],
      "metadata": {
        "id": "g0eJSHxZo2uH"
      },
      "execution_count": null,
      "outputs": []
    },
    {
      "cell_type": "code",
      "source": [
        "nmax=100\n",
        "cost = np.zeros(int(nmax/5))\n",
        "new_col=np.zeros(int(nmax/5))\n",
        "df_1=dados_imoveis_pca_norm\n",
        "for k in range(2,nmax,5):\n",
        "    kmeans_norm = KMeans().setK(k).setSeed(1).setFeaturesCol('pca_features_norm')\n",
        "    model = kmeans_norm.fit(df_1)\n",
        "    cost[int((k-2)/5)] = model.summary.trainingCost\n"
      ],
      "metadata": {
        "id": "UDYxyrVjo2uH"
      },
      "execution_count": 63,
      "outputs": []
    },
    {
      "cell_type": "code",
      "source": [
        "import pandas as pd\n",
        "df_cost = pd.DataFrame(cost[0:])\n",
        "df_cost.columns = [\"cost\"]\n",
        "new_col = list(range(2,nmax,5))\n",
        "df_cost.insert(0, 'cluster', new_col)\n",
        "\n",
        "import pylab as pl\n",
        "pl.plot(df_cost.cluster, df_cost.cost)\n",
        "pl.xlabel('Number of Clusters')\n",
        "pl.ylabel('Score')\n",
        "pl.title('Elbow Curve')\n",
        "pl.show()"
      ],
      "metadata": {
        "colab": {
          "base_uri": "https://localhost:8080/",
          "height": 295
        },
        "outputId": "263a13a1-9d6e-44f2-fa49-c6315fc124dc",
        "id": "KyQugpVUo2uI"
      },
      "execution_count": 64,
      "outputs": [
        {
          "output_type": "display_data",
          "data": {
            "text/plain": [
              "<Figure size 432x288 with 1 Axes>"
            ],
            "image/png": "[encoded data removed]"
          },
          "metadata": {
            "needs_background": "light"
          }
        }
      ]
    },
    {
      "cell_type": "code",
      "source": [
        "k=40 # Região onde a curva começa a ficar mais horizontal"
      ],
      "metadata": {
        "id": "aD0JtJ3Wo2uI"
      },
      "execution_count": 65,
      "outputs": []
    },
    {
      "cell_type": "code",
      "source": [
        "kmeans_norm = KMeans(featuresCol='pca_features_norm', predictionCol='cluster_pca_norm').setK(k).setSeed(1)"
      ],
      "metadata": {
        "id": "2eDbRH4yo2uI"
      },
      "execution_count": 66,
      "outputs": []
    },
    {
      "cell_type": "code",
      "source": [
        "model_kmeans_norm = kmeans_norm.fit(dados_imoveis_pca_norm)"
      ],
      "metadata": {
        "id": "E3UsvB0Yo2uJ"
      },
      "execution_count": 67,
      "outputs": []
    },
    {
      "cell_type": "code",
      "source": [
        "prections_kmeans_norm = model_kmeans_norm.transform(dados_imoveis_pca_norm)"
      ],
      "metadata": {
        "id": "AfoAYmkco2uJ"
      },
      "execution_count": 68,
      "outputs": []
    },
    {
      "cell_type": "code",
      "source": [
        "from pyspark.sql import functions as f\n",
        "prections_kmeans_norm\\\n",
        "    .select('cluster_pca_norm','id', 'quartos', 'area_util', 'banheiros', 'valor', 'Academia', 'Churrasqueira')\\\n",
        "    .groupBy('cluster_pca_norm')\\\n",
        "    .agg(\n",
        "        f.count(\"id\").alias(\"Numero_de_imoveis\"),\n",
        "        f.avg(\"quartos\").alias(\"N_medio_quartos\"),\n",
        "        f.avg(\"area_util\").alias(\"area_util_media\"),\n",
        "        f.avg(\"banheiros\").alias(\"N_medio_banheiros\"),\n",
        "        f.avg(\"valor\").alias(\"valor_medio\"),\n",
        "        (f.avg(\"Academia\")*100).alias(\"Percentual_de_imoveis_com_academia\"),\n",
        "        (f.avg(\"Churrasqueira\")*100).alias(\"Percentual_de_imoveis_com_Churrasqueira\"),        \n",
        "    )\\\n",
        "    .orderBy('valor_medio', ascending=True)\\\n",
        "    .show()"
      ],
      "metadata": {
        "colab": {
          "base_uri": "https://localhost:8080/"
        },
        "outputId": "8c7cb5ff-ec4f-45c0-fb91-08be0f3d8d3d",
        "id": "M1XqZ_iso2uJ"
      },
      "execution_count": 69,
      "outputs": [
        {
          "output_type": "stream",
          "name": "stdout",
          "text": [
            "+----------------+-----------------+------------------+------------------+------------------+------------------+----------------------------------+---------------------------------------+\n",
            "|cluster_pca_norm|Numero_de_imoveis|   N_medio_quartos|   area_util_media| N_medio_banheiros|       valor_medio|Percentual_de_imoveis_com_academia|Percentual_de_imoveis_com_Churrasqueira|\n",
            "+----------------+-----------------+------------------+------------------+------------------+------------------+----------------------------------+---------------------------------------+\n",
            "|              24|              267|2.0823970037453186| 57.62921348314607|1.3333333333333333|318746.80149812734|                             100.0|                      80.52434456928839|\n",
            "|              19|              621| 1.607085346215781|45.971014492753625| 1.146537842190016| 364960.9259259259|                 97.26247987117553|                      83.73590982286635|\n",
            "|               3|              831| 2.221419975932611| 81.89169675090253|1.7870036101083033|433164.17689530685|                 1.684717208182912|                     10.108303249097473|\n",
            "|              31|              293|2.1467576791808876| 78.19112627986348|1.8395904436860069| 465044.0136518771|                  2.04778156996587|                      4.778156996587031|\n",
            "|              20|              538|  2.37360594795539| 89.47955390334573|2.0111524163568775|478920.29925650556|                2.7881040892193307|                      8.178438661710038|\n",
            "|              37|              767| 2.353324641460235| 86.69491525423729| 2.016949152542373|497151.24380704045|                               0.0|                     41.851368970013034|\n",
            "|               1|             4274|2.3769302760879736| 87.81820308844173|1.9747309312119794| 497825.7697707066|               0.49134300421151145|                     2.1993448759943846|\n",
            "|               7|              325|2.3815384615384616| 75.75384615384615|1.8676923076923078|509805.93846153846|                 77.53846153846153|                       83.6923076923077|\n",
            "|              32|              789|  2.44233206590621| 88.61343472750316|2.1482889733840302| 527520.0506970849|                2.6615969581749046|                                  100.0|\n",
            "|              12|             2634| 2.310554290053151| 74.01632498101746|1.8101746393318148| 538351.4388762339|                 88.23082763857252|                      96.84889901290813|\n",
            "|              25|              996| 2.503012048192771| 96.00502008032129| 1.930722891566265| 597784.2168674698|               0.30120481927710846|                      73.19277108433735|\n",
            "|              29|              743|2.4845222072678332| 93.65006729475101|2.4091520861372815| 602448.9825033648|                1.2113055181695829|                                    0.0|\n",
            "|              27|              709|2.4710860366713683| 83.88152327221438|2.1664315937940763| 615611.8617771509|                 70.66290550070522|                      90.69111424541609|\n",
            "|               5|              577| 2.462738301559792| 106.4159445407279| 2.244367417677643| 704267.5320623916|                 1.386481802426343|                                  100.0|\n",
            "|              26|              477|2.7756813417190775|145.92033542976938|2.6289308176100628|1066195.0566037735|                               0.0|                      72.74633123689728|\n",
            "|               4|              420|2.7357142857142858|            121.05| 2.692857142857143|1084067.2761904763|                              90.0|                       81.9047619047619|\n",
            "|               8|             1150|2.5991304347826087|112.38956521739131|2.3982608695652172|1099681.1069565217|                               0.0|                      81.73913043478261|\n",
            "|              30|              541| 2.565619223659889|107.69870609981515|2.4621072088724585|         1148967.0|                51.571164510166355|                     13.863216266173753|\n",
            "|              17|              696|2.7370689655172415|143.29885057471265|2.6623563218390807|1176998.1422413792|                3.4482758620689653|                      2.586206896551724|\n",
            "|               6|             5764|2.7198126301179735|129.03643303261623|2.7418459403192226|1209457.7139139487|                 0.676613462873005|                                    0.0|\n",
            "+----------------+-----------------+------------------+------------------+------------------+------------------+----------------------------------+---------------------------------------+\n",
            "only showing top 20 rows\n",
            "\n"
          ]
        }
      ]
    },
    {
      "cell_type": "markdown",
      "source": [
        "### Filtrar imóveis do mesmo cluster"
      ],
      "metadata": {
        "id": "opNDTh3NrYw5"
      }
    },
    {
      "cell_type": "code",
      "source": [
        "id='0267dcdb-7705-44ad-b4f5-fa94720aa3cc'# id de exemplo\n",
        "cluster = prections_kmeans_norm.filter(prections_kmeans_norm.id == id).select('cluster_pca_norm').collect()[0][0]\n",
        "print(\"O cluster do imóvel é\",cluster)\n",
        "ids= prections_kmeans_norm.filter(prections_kmeans_norm.cluster_pca_norm == cluster).select('id').collect()\n",
        "print(\"\\nExemplo de outros imóveis desse mesmo cluster: \\n\")\n",
        "for i in ids[0:10]:\n",
        "  print(i[0])"
      ],
      "metadata": {
        "colab": {
          "base_uri": "https://localhost:8080/"
        },
        "id": "fOCcHcqErfem",
        "outputId": "aed7bf9e-569f-45d7-8983-d69427457c58"
      },
      "execution_count": 70,
      "outputs": [
        {
          "output_type": "stream",
          "name": "stdout",
          "text": [
            "O cluster do imóvel é 8\n",
            "\n",
            "Exemplo de outros imóveis desse mesmo cluster: \n",
            "\n",
            "0267dcdb-7705-44ad-b4f5-fa94720aa3cc\n",
            "0a94150e-87e6-4ac5-9cd1-dd5a18b69bfc\n",
            "bac8243e-ffaf-4d46-a530-cec9822cac02\n",
            "cca0dbb3-7c52-4ed5-8984-f910f2150a5e\n",
            "0092f04d-ee0a-4965-818a-ee2e58bba23e\n",
            "17df55d9-33a1-4499-978d-28d55dd72f00\n",
            "75f6ae14-42e9-4627-9588-7252f3f6be11\n",
            "9f7ff938-ffbb-42fe-a8ce-cd2bcffc09a5\n",
            "ea02824c-39c2-4a12-bd94-0d2169a0bce7\n",
            "05b316ce-f366-4270-b0e2-4e7c579e16b3\n"
          ]
        }
      ]
    },
    {
      "cell_type": "markdown",
      "source": [
        "### Construção do recomendador 2"
      ],
      "metadata": {
        "id": "SlCThRkAr0Oo"
      }
    },
    {
      "cell_type": "code",
      "source": [
        "from scipy.spatial.distance import euclidean\n",
        "from pyspark.sql.types import FloatType"
      ],
      "metadata": {
        "id": "lak9EhKvr0WT"
      },
      "execution_count": 71,
      "outputs": []
    },
    {
      "cell_type": "code",
      "source": [
        "def recomendador_2(id):\n",
        "  cluster = prections_kmeans_norm.filter(prections_kmeans_norm.id == id).select('cluster_pca_norm').collect()[0][0]\n",
        "  imoveis_recomendados = prections_kmeans_norm.filter(prections_kmeans_norm.cluster_pca_norm == cluster)\n",
        "  componenetes_imoveis = imoveis_recomendados.filter(imoveis_recomendados.id == id)\\\n",
        "                                          .select('pca_features_norm').collect()[0][0]\n",
        "\n",
        "  def calcula_distance(value):\n",
        "    return euclidean(componenetes_imoveis, value)\n",
        "\n",
        "  udf_calcula_distance = f.udf(calcula_distance, FloatType())\n",
        "\n",
        "  imoveis_recomendados_dist = imoveis_recomendados.withColumn('Dist', udf_calcula_distance('pca_features_norm'))\n",
        "\n",
        "  recomendados = spark.createDataFrame(imoveis_recomendados_dist.sort('Dist').take(10)).drop('features','features_scaled_normal','pca_features_norm','cluster_pca_norm')\n",
        "\n",
        "  recomendados.show(truncate=False)"
      ],
      "metadata": {
        "id": "iw_W0cUrr1KD"
      },
      "execution_count": 106,
      "outputs": []
    },
    {
      "cell_type": "markdown",
      "source": [
        "## Comparação entre os dois recomendadores de imovéis "
      ],
      "metadata": {
        "id": "VI324ovKvGR_"
      }
    },
    {
      "cell_type": "code",
      "source": [
        "print(\"Recomendador 1\")\n",
        "recomendador_1(id)\n",
        "print(\"Recomendador 2\")\n",
        "recomendador_2(id)"
      ],
      "metadata": {
        "colab": {
          "base_uri": "https://localhost:8080/"
        },
        "id": "GH76PWRzsRaM",
        "outputId": "490f1655-c8b8-4e91-e9ed-fa2ad82aba77"
      },
      "execution_count": 109,
      "outputs": [
        {
          "output_type": "stream",
          "name": "stdout",
          "text": [
            "Recomendador 1\n",
            "+------------------------------------+-----+---------+---------+-------+------+----+------------------------+----------+----------+-----+--------+--------+------------------+-------------+------------------+--------+-------+----------+------------+-----------------+------------+------------+----------+----------+--------+--------------------+\n",
            "|id                                  |andar|area_util|banheiros|quartos|suites|vaga|bairro                  |zona      |condominio|iptu |valor   |Academia|Animais_permitidos|Churrasqueira|Condominio_fechado|Elevador|Piscina|Playground|Portaria_24h|Portao_eletronico|Salao_festas|Zona_Central|Zona_Norte|Zona_Oeste|Zona_Sul|Dist                |\n",
            "+------------------------------------+-----+---------+---------+-------+------+----+------------------------+----------+----------+-----+--------+--------+------------------+-------------+------------------+--------+-------+----------+------------+-----------------+------------+------------+----------+----------+--------+--------------------+\n",
            "|0267dcdb-7705-44ad-b4f5-fa94720aa3cc|0    |52.0     |1        |2      |1     |1   |Pechincha               |Zona Oeste|0         |0.0  |440000.0|0       |0                 |1            |0                 |0       |1      |1         |0           |0                |1           |0           |0         |1         |0       |0.0                 |\n",
            "|5a9db79f-fb3a-4f5b-ad70-a930f90207af|0    |59.0     |1        |2      |1     |1   |Taquara                 |Zona Oeste|800       |120.0|350000.0|0       |0                 |1            |0                 |0       |1      |1         |0           |0                |1           |0           |0         |1         |0       |0.02921476773917675 |\n",
            "|12126cc3-23ae-48e9-97f1-8fc7b88371b1|0    |58.0     |1        |2      |1     |1   |Taquara                 |Zona Oeste|450       |120.0|398000.0|0       |0                 |1            |0                 |0       |1      |1         |0           |0                |1           |0           |0         |1         |0       |0.029499942436814308|\n",
            "|65782c32-8550-44e1-8cad-e82367ca2a40|0    |59.0     |1        |2      |1     |1   |Taquara                 |Zona Oeste|760       |108.0|319990.0|0       |0                 |1            |0                 |0       |1      |1         |0           |0                |1           |0           |0         |1         |0       |0.03238438442349434 |\n",
            "|c5e9c85a-a547-4d24-a926-a94985910043|0    |59.0     |1        |2      |1     |1   |Taquara                 |Zona Oeste|880       |90.0 |320000.0|0       |0                 |1            |0                 |0       |1      |1         |0           |0                |1           |0           |0         |1         |0       |0.03265412524342537 |\n",
            "|120cb82b-5ea1-45cd-b1ee-19ff0b760d32|0    |60.0     |1        |2      |1     |1   |Pechincha               |Zona Oeste|0         |0.0  |359000.0|0       |0                 |1            |0                 |0       |1      |1         |0           |0                |1           |0           |0         |1         |0       |0.03373928368091583 |\n",
            "|ee41b170-bb91-4bf4-913f-8f4b5a06a196|0    |55.0     |1        |2      |1     |1   |Jacarepaguá             |Zona Oeste|0         |0.0  |329000.0|0       |0                 |1            |0                 |0       |1      |1         |0           |0                |1           |0           |0         |1         |0       |0.03612254932522774 |\n",
            "|c374246b-65c4-4ef1-ab03-ffaf3935ab9a|0    |59.0     |1        |2      |1     |1   |Taquara                 |Zona Oeste|880       |95.0 |289000.0|0       |0                 |1            |0                 |0       |1      |1         |0           |0                |1           |0           |0         |1         |0       |0.041100576519966125|\n",
            "|91cd8cb5-2bbd-40f8-8e0f-4fbc7327ffad|0    |50.0     |1        |2      |1     |1   |Recreio dos Bandeirantes|Zona Oeste|0         |0.0  |365000.0|0       |0                 |1            |0                 |0       |1      |1         |0           |0                |1           |0           |0         |1         |0       |0.04785017669200897 |\n",
            "|01db49be-98a4-41fb-b32c-4c7df46b5ead|0    |53.0     |1        |2      |1     |1   |Taquara                 |Zona Oeste|760       |95.0 |300000.0|0       |0                 |1            |0                 |0       |1      |1         |0           |0                |1           |0           |0         |1         |0       |0.06013965234160423 |\n",
            "+------------------------------------+-----+---------+---------+-------+------+----+------------------------+----------+----------+-----+--------+--------+------------------+-------------+------------------+--------+-------+----------+------------+-----------------+------------+------------+----------+----------+--------+--------------------+\n",
            "\n",
            "Recomendador 2\n",
            "+------------------------------------+-----+---------+---------+-------+------+----+------------------------+----------+----------+------+--------+--------+------------------+-------------+------------------+--------+-------+----------+------------+-----------------+------------+------------+----------+----------+--------+---------------------+\n",
            "|id                                  |andar|area_util|banheiros|quartos|suites|vaga|bairro                  |zona      |condominio|iptu  |valor   |Academia|Animais_permitidos|Churrasqueira|Condominio_fechado|Elevador|Piscina|Playground|Portaria_24h|Portao_eletronico|Salao_festas|Zona_Central|Zona_Norte|Zona_Oeste|Zona_Sul|Dist                 |\n",
            "+------------------------------------+-----+---------+---------+-------+------+----+------------------------+----------+----------+------+--------+--------+------------------+-------------+------------------+--------+-------+----------+------------+-----------------+------------+------------+----------+----------+--------+---------------------+\n",
            "|0267dcdb-7705-44ad-b4f5-fa94720aa3cc|0    |52.0     |1        |2      |1     |1   |Pechincha               |Zona Oeste|0         |0.0   |440000.0|0       |0                 |1            |0                 |0       |1      |1         |0           |0                |1           |0           |0         |1         |0       |0.0                  |\n",
            "|12126cc3-23ae-48e9-97f1-8fc7b88371b1|0    |58.0     |1        |2      |1     |1   |Taquara                 |Zona Oeste|450       |120.0 |398000.0|0       |0                 |1            |0                 |0       |1      |1         |0           |0                |1           |0           |0         |1         |0       |0.0034904167987406254|\n",
            "|9a66d13c-a101-4a45-99b4-5daee47feb5d|0    |62.0     |1        |2      |1     |1   |Recreio dos Bandeirantes|Zona Oeste|750       |180.0 |493000.0|0       |0                 |1            |0                 |0       |1      |1         |0           |0                |1           |0           |0         |1         |0       |0.004795399494469166 |\n",
            "|91cd8cb5-2bbd-40f8-8e0f-4fbc7327ffad|0    |50.0     |1        |2      |1     |1   |Recreio dos Bandeirantes|Zona Oeste|0         |0.0   |365000.0|0       |0                 |1            |0                 |0       |1      |1         |0           |0                |1           |0           |0         |1         |0       |0.005432603415101767 |\n",
            "|1eaf76d0-8652-41d2-bedc-37a460599f22|0    |68.0     |1        |2      |1     |1   |Recreio dos Bandeirantes|Zona Oeste|750       |150.0 |490000.0|0       |0                 |1            |0                 |0       |1      |1         |0           |0                |1           |0           |0         |1         |0       |0.005876224488019943 |\n",
            "|c41c9e46-6984-481b-9021-2adbdf257567|0    |61.0     |1        |2      |1     |1   |Praça Seca              |Zona Oeste|450       |580.0 |514255.0|0       |0                 |1            |0                 |0       |1      |1         |0           |0                |1           |0           |0         |1         |0       |0.00595173891633749  |\n",
            "|120cb82b-5ea1-45cd-b1ee-19ff0b760d32|0    |60.0     |1        |2      |1     |1   |Pechincha               |Zona Oeste|0         |0.0   |359000.0|0       |0                 |1            |0                 |0       |1      |1         |0           |0                |1           |0           |0         |1         |0       |0.006278597749769688 |\n",
            "|5a9db79f-fb3a-4f5b-ad70-a930f90207af|0    |59.0     |1        |2      |1     |1   |Taquara                 |Zona Oeste|800       |120.0 |350000.0|0       |0                 |1            |0                 |0       |1      |1         |0           |0                |1           |0           |0         |1         |0       |0.00679305475205183  |\n",
            "|c02e6aab-7590-42bd-a463-a6fc279d0af5|0    |67.0     |1        |2      |1     |1   |Recreio dos Bandeirantes|Zona Oeste|800       |1100.0|520000.0|0       |0                 |1            |0                 |0       |1      |1         |0           |0                |1           |0           |0         |1         |0       |0.00722163449972868  |\n",
            "|fb30bbe2-990b-4d3e-98cb-c2f4f94afd9e|0    |72.0     |1        |2      |1     |1   |Recreio dos Bandeirantes|Zona Oeste|0         |0.0   |365000.0|0       |0                 |1            |0                 |0       |1      |1         |0           |0                |1           |0           |0         |1         |0       |0.007928479462862015 |\n",
            "+------------------------------------+-----+---------+---------+-------+------+----+------------------------+----------+----------+------+--------+--------+------------------+-------------+------------------+--------+-------+----------+------------+-----------------+------------+------------+----------+----------+--------+---------------------+\n",
            "\n"
          ]
        }
      ]
    },
    {
      "cell_type": "markdown",
      "source": [
        "As duas funções retornaram algumas recomendações semelhantes, o segundo recomendador apresentou alguns imoveis com preços mais altos que o recomendador 1 mas pode ser influência do cluster que o imóvel está inserido. Com  a normalização dos dados foi necessário selecionar apenas 7 componetes principais para explicar 90% da variabilidade dos dados, redução de variáveis maior em comparação ao método da padronização que foram necessários 13 componentes para atender ao mesmo requisito. "
      ],
      "metadata": {
        "id": "i7aEucCyycLo"
      }
    }
  ],
  "metadata": {
    "colab": {
      "provenance": [],
      "collapsed_sections": [
        "IUTMjMo9JSJ5",
        "2kLlRKCYV9u7"
      ],
      "mount_file_id": "1b84nczAH6IJS1X3nV4c4akEL6LHqcwft",
      "authorship_tag": "ABX9TyOyYre4eS0aaCb+JsAZoz6e",
      "include_colab_link": true
    },
    "kernelspec": {
      "display_name": "Python 3",
      "name": "python3"
    },
    "language_info": {
      "name": "python"
    }
  },
  "nbformat": 4,
  "nbformat_minor": 0
}