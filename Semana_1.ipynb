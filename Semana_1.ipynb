{
  "nbformat": 4,
  "nbformat_minor": 0,
  "metadata": {
    "colab": {
      "provenance": [],
      "mount_file_id": "1b84nczAH6IJS1X3nV4c4akEL6LHqcwft",
      "authorship_tag": "ABX9TyPBZUPMqruUGTZISP3UIko8",
      "include_colab_link": true
    },
    "kernelspec": {
      "name": "python3",
      "display_name": "Python 3"
    },
    "language_info": {
      "name": "python"
    }
  },
  "cells": [
    {
      "cell_type": "markdown",
      "metadata": {
        "id": "view-in-github",
        "colab_type": "text"
      },
      "source": [
        "<a href=\"https://colab.research.google.com/github/FranziskoB/Challenge-Data-Science-Alura-2ed/blob/main/Semana_1.ipynb\" target=\"_parent\"><img src=\"https://colab.research.google.com/assets/colab-badge.svg\" alt=\"Open In Colab\"/></a>"
      ]
    },
    {
      "cell_type": "markdown",
      "source": [
        "#Desafio Data Science Alura"
      ],
      "metadata": {
        "id": "hdVDcQwmFlUB"
      }
    },
    {
      "cell_type": "markdown",
      "source": [
        "A imobiliária InsightPlaces, situada na cidade do Rio de Janeiro, está enfrentando dificuldades para alugar e vender imóveis. Em uma pesquisa de como empresas semelhantes operam no mercado, a InsightPlaces percebeu que esse problema pode estar relacionado aos valores dos imóveis e às recomendações realizadas em seu site.\n",
        "\n",
        "Dentro desse contexto, como podemos definir de forma eficiente os preços dos imóveis lidando com grandes volumes de dados? É importante recomendar imóveis utilizando outro critério? O que precisa ser feito?\n",
        "\n",
        "Você faz parte do time de Ciência de Dados e Big Data da InsightPlaces e ficou responsável por auxiliar no processo de análise de dados dos imóveis, que estão localizados em alguns bairros da cidade do Rio de Janeiro.\n",
        "\n",
        "Esse projeto tem algumas etapas como: ler e fazer o tratamento do histórico dos preços de imóveis no Rio de Janeiro, construir um modelo de regressão para precificar imóveis e, por último, criar um recomendador de imóveis. Para cada uma dessas etapas, vamos utilizar a ferramenta PySpark, que oferece uma melhor performance ao trabalharmos com grandes volumes de dados."
      ],
      "metadata": {
        "id": "oceUSU6oGMuB"
      }
    },
    {
      "cell_type": "markdown",
      "source": [
        "##Semana 1"
      ],
      "metadata": {
        "id": "5QdxGRINHxZo"
      }
    },
    {
      "cell_type": "markdown",
      "source": [
        "Na semana 1 vamos fazer parte do trabalho de pessoas engenheiras de dados.\n",
        "\n",
        "O time de engenharia de dados da InsightPlaces disponibilizou uma base de dados no estado bruto para trabalharmos. Durante a semana 1, ficamos responsáveis por fazer transformações mais iniciais nesses dados, de forma que eles fiquem mais estruturados. Utilizamos os recursos do PySpark para conseguirmos explorar essa base de dados, realizar transformações em algumas colunas e também aplicar filtros específicos para obtermos apenas as informações que interessam para nossa análise.\n",
        "\n",
        "No final dessa semana, salvamos os dados transformados no formato parquet para podermos utilizá-los na semana 2."
      ],
      "metadata": {
        "id": "6elKyL3GH2TI"
      }
    },
    {
      "cell_type": "markdown",
      "source": [
        "### Configurando o Spark no Google Colab"
      ],
      "metadata": {
        "id": "IUTMjMo9JSJ5"
      }
    },
    {
      "cell_type": "code",
      "execution_count": null,
      "metadata": {
        "id": "4YDKwhZDFUJu"
      },
      "outputs": [],
      "source": [
        "# instalar as dependências\n",
        "!apt-get update -qq\n",
        "!apt-get install openjdk-8-jdk-headless -qq > /dev/null\n",
        "!wget -q https://archive.apache.org/dist/spark/spark-3.1.2/spark-3.1.2-bin-hadoop2.7.tgz\n",
        "!tar xf spark-3.1.2-bin-hadoop2.7.tgz\n",
        "!pip install -q findspark"
      ]
    },
    {
      "cell_type": "code",
      "source": [
        "import os\n",
        "os.environ[\"JAVA_HOME\"] = \"/usr/lib/jvm/java-8-openjdk-amd64\"\n",
        "os.environ[\"SPARK_HOME\"] = \"/content/spark-3.1.2-bin-hadoop2.7\""
      ],
      "metadata": {
        "id": "s7JLBTA_JhTO"
      },
      "execution_count": null,
      "outputs": []
    },
    {
      "cell_type": "code",
      "source": [
        "import findspark\n",
        "findspark.init()"
      ],
      "metadata": {
        "id": "VlUZokkYJjRr"
      },
      "execution_count": null,
      "outputs": []
    },
    {
      "cell_type": "markdown",
      "source": [
        "### Carregando dos dados"
      ],
      "metadata": {
        "id": "Xn8gbVU8J2Ou"
      }
    },
    {
      "cell_type": "markdown",
      "source": [
        "#### Acessando o Spark UI (Google Colab)n"
      ],
      "metadata": {
        "id": "2SDU7MT8J7MG"
      }
    },
    {
      "cell_type": "markdown",
      "source": [
        "Uma SparkSession pode ser utilizada para criar DataFrames, registrar DataFrames como tabelas, executar consultas SQL em tabelas, armazenar em cache e ler arquivos parquet."
      ],
      "metadata": {
        "id": "Ri807bEgLHxD"
      }
    },
    {
      "cell_type": "code",
      "source": [
        "from pyspark.sql import SparkSession\n",
        "\n",
        "spark = SparkSession.builder \\\n",
        "    .master('local[*]') \\\n",
        "    .appName(\"Iniciando com Spark\") \\\n",
        "    .config('spark.ui.port', '4050') \\\n",
        "    .getOrCreate()"
      ],
      "metadata": {
        "id": "kwHazMWSLMFx"
      },
      "execution_count": null,
      "outputs": []
    },
    {
      "cell_type": "code",
      "source": [
        "!wget -q https://bin.equinox.io/c/4VmDzA7iaHb/ngrok-stable-linux-amd64.zip\n",
        "!unzip ngrok-stable-linux-amd64.zip"
      ],
      "metadata": {
        "id": "oKtYqA4ZLzC0"
      },
      "execution_count": null,
      "outputs": []
    },
    {
      "cell_type": "code",
      "source": [
        "get_ipython().system_raw('./ngrok http 4050 &')"
      ],
      "metadata": {
        "id": "1k3PiqOxL0zt"
      },
      "execution_count": null,
      "outputs": []
    },
    {
      "cell_type": "code",
      "source": [
        "!curl -s http://localhost:4040/api/tunnels"
      ],
      "metadata": {
        "id": "RB00qYEAL2v5",
        "colab": {
          "base_uri": "https://localhost:8080/"
        },
        "outputId": "55cb04d9-2b79-4658-9e7a-b7c3eb7d2856"
      },
      "execution_count": null,
      "outputs": [
        {
          "output_type": "stream",
          "name": "stdout",
          "text": [
            "{\"tunnels\":[],\"uri\":\"/api/tunnels\"}\n"
          ]
        }
      ]
    },
    {
      "cell_type": "markdown",
      "source": [
        "#### Carregamento de dados"
      ],
      "metadata": {
        "id": "7j6DGqUtMBJK"
      }
    },
    {
      "cell_type": "markdown",
      "source": [
        "Descrição de cada variável do dataset\n",
        "*   id ->\tCódigo de identificação do anúncio no sistema da InsightPlaces\n",
        "*   tipo_unidade ->\tTipo de imóvel (apartamento, casa e outros)\n",
        "*   tipo_uso ->\tTipo de uso do imóvel (residencial ou comercial)\n",
        "*   area_total ->\tÁrea total do imóvel (construção e terreno)\n",
        "*   area_util ->\tÁrea construída do imóvel\n",
        "*   quartos ->\tQuantidade de quartos do imóvel\n",
        "*   suites ->\tQuantidade de suítes do imóvel\n",
        "*   banheiros ->\tQuantidade de banheiros do imóvel\n",
        "*   vaga ->\tQuantidade de vagas de garagem do imóvel\n",
        "*   caracteristicas ->\tListagem de características do imóvel\n",
        "*   andar ->\tNúmero do andar do imóvel\n",
        "*   endereco ->\tInformações sobre o endereço do imóvel\n",
        "*   valores ->\tInformações sobre valores de venda e locação dos imóveis\n",
        "\n",
        "\n"
      ],
      "metadata": {
        "id": "P0FBSEpZMPAJ"
      }
    },
    {
      "cell_type": "code",
      "source": [
        "import zipfile\n",
        "import requests\n",
        "from io import BytesIO\n",
        "import os"
      ],
      "metadata": {
        "id": "zovo_23GP9Rn"
      },
      "execution_count": null,
      "outputs": []
    },
    {
      "cell_type": "code",
      "source": [
        "os.makedirs(\"./dados\",exist_ok=True) # Criando uma pasta no google colab"
      ],
      "metadata": {
        "id": "dcn5ck4BMw_v"
      },
      "execution_count": null,
      "outputs": []
    },
    {
      "cell_type": "code",
      "source": [
        "path = 'https://github.com/FranziskoB/Challenge-Data-Science-Alura-2ed/raw/main/dados/semana-1.zip' # Local do arquivo zip\n",
        "filebytes = BytesIO(\n",
        "    requests.get(path).content\n",
        ")\n",
        "myzip = zipfile.ZipFile(filebytes)\n",
        "myzip.extractall(\"./dados\") #Salvando os dados na pasta criada"
      ],
      "metadata": {
        "id": "AICZogr0MzOg"
      },
      "execution_count": null,
      "outputs": []
    },
    {
      "cell_type": "code",
      "source": [
        "dados = spark.read.load(\"/content/dados/dataset_bruto.json\", format=\"json\") # Importando os dados"
      ],
      "metadata": {
        "id": "kjiTYDiDRSYv"
      },
      "execution_count": null,
      "outputs": []
    },
    {
      "cell_type": "code",
      "source": [
        "dados.count() # Número de registros carregados"
      ],
      "metadata": {
        "colab": {
          "base_uri": "https://localhost:8080/"
        },
        "id": "YCpZokXkSmk9",
        "outputId": "daf1dfb8-1acf-42d9-ebc2-e56b17ea527c"
      },
      "execution_count": null,
      "outputs": [
        {
          "output_type": "execute_result",
          "data": {
            "text/plain": [
              "89083"
            ]
          },
          "metadata": {},
          "execution_count": 12
        }
      ]
    },
    {
      "cell_type": "markdown",
      "source": [
        "### Visualiando e tratando os dados"
      ],
      "metadata": {
        "id": "QvqM0aI1aYWs"
      }
    },
    {
      "cell_type": "markdown",
      "source": [
        "Os primeiro 5 valores\n"
      ],
      "metadata": {
        "id": "hbHkujararcx"
      }
    },
    {
      "cell_type": "code",
      "source": [
        "dados.limit(5).toPandas()"
      ],
      "metadata": {
        "colab": {
          "base_uri": "https://localhost:8080/",
          "height": 206
        },
        "id": "bhvowWkCa2sG",
        "outputId": "2cc70848-5c23-47cb-fe88-e7a32b393b9a"
      },
      "execution_count": null,
      "outputs": [
        {
          "output_type": "execute_result",
          "data": {
            "text/plain": [
              "                                             anuncio  \\\n",
              "0  (0, [], [16], [0], [], (Centro, 20061003, Rio ...   \n",
              "1  (0, [], [14], [0], [], (Centro, 20051040, Rio ...   \n",
              "2  (0, [1026], [1026], [0], [], (Maria da Graça, ...   \n",
              "3  (0, [120], [120], [0], [Portão eletrônico, Con...   \n",
              "4  (0, [3], [3], [0], [], (São Cristóvão, 2093167...   \n",
              "\n",
              "                                             imagens  \\\n",
              "0  [(39d6282a-71f3-47bc-94aa-909351ecd881, https:...   \n",
              "1  [(23d2b3ab-45b0-47f2-a27f-ffbe066c2c38, https:...   \n",
              "2  [(1da65baa-368b-490f-bef7-1834b9a428c1, https:...   \n",
              "3  [(79b542c6-49b4-4f06-80b5-ef4fcdf98f76, https:...   \n",
              "4  [(e2bc497b-6510-4731-8942-97b3d3cdab5e, https:...   \n",
              "\n",
              "                                            usuario  \n",
              "0     (9d44563d-3405-4e84-9381-35b7cf40a9a4, Frank)  \n",
              "1  (36245be7-70fe-40cd-84d4-70a57dc8f976, Caroline)  \n",
              "2    (9dc415d8-1397-4d8d-8425-b8310fad309d, Oliver)  \n",
              "3   (9911a2df-f299-4a73-a384-281417abaf69, Matthew)  \n",
              "4      (240a7aab-12e5-4069-9a2c-9dca4c4f9c68, Jude)  "
            ],
            "text/html": [
              "\n",
              "  <div id=\"df-6e055789-2b97-416d-acfc-214c57d93fa1\">\n",
              "    <div class=\"colab-df-container\">\n",
              "      <div>\n",
              "<style scoped>\n",
              "    .dataframe tbody tr th:only-of-type {\n",
              "        vertical-align: middle;\n",
              "    }\n",
              "\n",
              "    .dataframe tbody tr th {\n",
              "        vertical-align: top;\n",
              "    }\n",
              "\n",
              "    .dataframe thead th {\n",
              "        text-align: right;\n",
              "    }\n",
              "</style>\n",
              "<table border=\"1\" class=\"dataframe\">\n",
              "  <thead>\n",
              "    <tr style=\"text-align: right;\">\n",
              "      <th></th>\n",
              "      <th>anuncio</th>\n",
              "      <th>imagens</th>\n",
              "      <th>usuario</th>\n",
              "    </tr>\n",
              "  </thead>\n",
              "  <tbody>\n",
              "    <tr>\n",
              "      <th>0</th>\n",
              "      <td>(0, [], [16], [0], [], (Centro, 20061003, Rio ...</td>\n",
              "      <td>[(39d6282a-71f3-47bc-94aa-909351ecd881, https:...</td>\n",
              "      <td>(9d44563d-3405-4e84-9381-35b7cf40a9a4, Frank)</td>\n",
              "    </tr>\n",
              "    <tr>\n",
              "      <th>1</th>\n",
              "      <td>(0, [], [14], [0], [], (Centro, 20051040, Rio ...</td>\n",
              "      <td>[(23d2b3ab-45b0-47f2-a27f-ffbe066c2c38, https:...</td>\n",
              "      <td>(36245be7-70fe-40cd-84d4-70a57dc8f976, Caroline)</td>\n",
              "    </tr>\n",
              "    <tr>\n",
              "      <th>2</th>\n",
              "      <td>(0, [1026], [1026], [0], [], (Maria da Graça, ...</td>\n",
              "      <td>[(1da65baa-368b-490f-bef7-1834b9a428c1, https:...</td>\n",
              "      <td>(9dc415d8-1397-4d8d-8425-b8310fad309d, Oliver)</td>\n",
              "    </tr>\n",
              "    <tr>\n",
              "      <th>3</th>\n",
              "      <td>(0, [120], [120], [0], [Portão eletrônico, Con...</td>\n",
              "      <td>[(79b542c6-49b4-4f06-80b5-ef4fcdf98f76, https:...</td>\n",
              "      <td>(9911a2df-f299-4a73-a384-281417abaf69, Matthew)</td>\n",
              "    </tr>\n",
              "    <tr>\n",
              "      <th>4</th>\n",
              "      <td>(0, [3], [3], [0], [], (São Cristóvão, 2093167...</td>\n",
              "      <td>[(e2bc497b-6510-4731-8942-97b3d3cdab5e, https:...</td>\n",
              "      <td>(240a7aab-12e5-4069-9a2c-9dca4c4f9c68, Jude)</td>\n",
              "    </tr>\n",
              "  </tbody>\n",
              "</table>\n",
              "</div>\n",
              "      <button class=\"colab-df-convert\" onclick=\"convertToInteractive('df-6e055789-2b97-416d-acfc-214c57d93fa1')\"\n",
              "              title=\"Convert this dataframe to an interactive table.\"\n",
              "              style=\"display:none;\">\n",
              "        \n",
              "  <svg xmlns=\"http://www.w3.org/2000/svg\" height=\"24px\"viewBox=\"0 0 24 24\"\n",
              "       width=\"24px\">\n",
              "    <path d=\"M0 0h24v24H0V0z\" fill=\"none\"/>\n",
              "    <path d=\"M18.56 5.44l.94 2.06.94-2.06 2.06-.94-2.06-.94-.94-2.06-.94 2.06-2.06.94zm-11 1L8.5 8.5l.94-2.06 2.06-.94-2.06-.94L8.5 2.5l-.94 2.06-2.06.94zm10 10l.94 2.06.94-2.06 2.06-.94-2.06-.94-.94-2.06-.94 2.06-2.06.94z\"/><path d=\"M17.41 7.96l-1.37-1.37c-.4-.4-.92-.59-1.43-.59-.52 0-1.04.2-1.43.59L10.3 9.45l-7.72 7.72c-.78.78-.78 2.05 0 2.83L4 21.41c.39.39.9.59 1.41.59.51 0 1.02-.2 1.41-.59l7.78-7.78 2.81-2.81c.8-.78.8-2.07 0-2.86zM5.41 20L4 18.59l7.72-7.72 1.47 1.35L5.41 20z\"/>\n",
              "  </svg>\n",
              "      </button>\n",
              "      \n",
              "  <style>\n",
              "    .colab-df-container {\n",
              "      display:flex;\n",
              "      flex-wrap:wrap;\n",
              "      gap: 12px;\n",
              "    }\n",
              "\n",
              "    .colab-df-convert {\n",
              "      background-color: #E8F0FE;\n",
              "      border: none;\n",
              "      border-radius: 50%;\n",
              "      cursor: pointer;\n",
              "      display: none;\n",
              "      fill: #1967D2;\n",
              "      height: 32px;\n",
              "      padding: 0 0 0 0;\n",
              "      width: 32px;\n",
              "    }\n",
              "\n",
              "    .colab-df-convert:hover {\n",
              "      background-color: #E2EBFA;\n",
              "      box-shadow: 0px 1px 2px rgba(60, 64, 67, 0.3), 0px 1px 3px 1px rgba(60, 64, 67, 0.15);\n",
              "      fill: #174EA6;\n",
              "    }\n",
              "\n",
              "    [theme=dark] .colab-df-convert {\n",
              "      background-color: #3B4455;\n",
              "      fill: #D2E3FC;\n",
              "    }\n",
              "\n",
              "    [theme=dark] .colab-df-convert:hover {\n",
              "      background-color: #434B5C;\n",
              "      box-shadow: 0px 1px 3px 1px rgba(0, 0, 0, 0.15);\n",
              "      filter: drop-shadow(0px 1px 2px rgba(0, 0, 0, 0.3));\n",
              "      fill: #FFFFFF;\n",
              "    }\n",
              "  </style>\n",
              "\n",
              "      <script>\n",
              "        const buttonEl =\n",
              "          document.querySelector('#df-6e055789-2b97-416d-acfc-214c57d93fa1 button.colab-df-convert');\n",
              "        buttonEl.style.display =\n",
              "          google.colab.kernel.accessAllowed ? 'block' : 'none';\n",
              "\n",
              "        async function convertToInteractive(key) {\n",
              "          const element = document.querySelector('#df-6e055789-2b97-416d-acfc-214c57d93fa1');\n",
              "          const dataTable =\n",
              "            await google.colab.kernel.invokeFunction('convertToInteractive',\n",
              "                                                     [key], {});\n",
              "          if (!dataTable) return;\n",
              "\n",
              "          const docLinkHtml = 'Like what you see? Visit the ' +\n",
              "            '<a target=\"_blank\" href=https://colab.research.google.com/notebooks/data_table.ipynb>data table notebook</a>'\n",
              "            + ' to learn more about interactive tables.';\n",
              "          element.innerHTML = '';\n",
              "          dataTable['output_type'] = 'display_data';\n",
              "          await google.colab.output.renderOutput(dataTable, element);\n",
              "          const docLink = document.createElement('div');\n",
              "          docLink.innerHTML = docLinkHtml;\n",
              "          element.appendChild(docLink);\n",
              "        }\n",
              "      </script>\n",
              "    </div>\n",
              "  </div>\n",
              "  "
            ]
          },
          "metadata": {},
          "execution_count": 103
        }
      ]
    },
    {
      "cell_type": "markdown",
      "source": [
        "Os dados cheragam muito desorganizados "
      ],
      "metadata": {
        "id": "pQIM_zk1b2qg"
      }
    },
    {
      "cell_type": "code",
      "source": [
        "anuncio=dados.select(\"anuncio\") # selecionando apenas a coluna anuncio"
      ],
      "metadata": {
        "id": "-8Abh_4Ib_rf"
      },
      "execution_count": null,
      "outputs": []
    },
    {
      "cell_type": "markdown",
      "source": [
        "Selecionado os dados estão dentro da coluna anuncio"
      ],
      "metadata": {
        "id": "xudESnZvrL2K"
      }
    },
    {
      "cell_type": "code",
      "source": [
        "anuncio.printSchema()"
      ],
      "metadata": {
        "colab": {
          "base_uri": "https://localhost:8080/"
        },
        "id": "LT5UbUZJrDDq",
        "outputId": "2c1e4140-c019-4e72-835a-f208cd1d6082"
      },
      "execution_count": null,
      "outputs": [
        {
          "output_type": "stream",
          "name": "stdout",
          "text": [
            "root\n",
            " |-- anuncio: struct (nullable = true)\n",
            " |    |-- andar: long (nullable = true)\n",
            " |    |-- area_total: array (nullable = true)\n",
            " |    |    |-- element: string (containsNull = true)\n",
            " |    |-- area_util: array (nullable = true)\n",
            " |    |    |-- element: string (containsNull = true)\n",
            " |    |-- banheiros: array (nullable = true)\n",
            " |    |    |-- element: long (containsNull = true)\n",
            " |    |-- caracteristicas: array (nullable = true)\n",
            " |    |    |-- element: string (containsNull = true)\n",
            " |    |-- endereco: struct (nullable = true)\n",
            " |    |    |-- bairro: string (nullable = true)\n",
            " |    |    |-- cep: string (nullable = true)\n",
            " |    |    |-- cidade: string (nullable = true)\n",
            " |    |    |-- estado: string (nullable = true)\n",
            " |    |    |-- latitude: double (nullable = true)\n",
            " |    |    |-- longitude: double (nullable = true)\n",
            " |    |    |-- pais: string (nullable = true)\n",
            " |    |    |-- rua: string (nullable = true)\n",
            " |    |    |-- zona: string (nullable = true)\n",
            " |    |-- id: string (nullable = true)\n",
            " |    |-- quartos: array (nullable = true)\n",
            " |    |    |-- element: long (containsNull = true)\n",
            " |    |-- suites: array (nullable = true)\n",
            " |    |    |-- element: long (containsNull = true)\n",
            " |    |-- tipo_anuncio: string (nullable = true)\n",
            " |    |-- tipo_unidade: string (nullable = true)\n",
            " |    |-- tipo_uso: string (nullable = true)\n",
            " |    |-- vaga: array (nullable = true)\n",
            " |    |    |-- element: long (containsNull = true)\n",
            " |    |-- valores: array (nullable = true)\n",
            " |    |    |-- element: struct (containsNull = true)\n",
            " |    |    |    |-- condominio: string (nullable = true)\n",
            " |    |    |    |-- iptu: string (nullable = true)\n",
            " |    |    |    |-- tipo: string (nullable = true)\n",
            " |    |    |    |-- valor: string (nullable = true)\n",
            "\n"
          ]
        }
      ]
    },
    {
      "cell_type": "markdown",
      "source": [
        "Passando os dados para colunas"
      ],
      "metadata": {
        "id": "ndKjpfAcHlta"
      }
    },
    {
      "cell_type": "code",
      "source": [
        "df= anuncio.select('*',\"anuncio.id\" ,\"anuncio.tipo_anuncio\",\"anuncio.tipo_unidade\" ,\"anuncio.tipo_uso\" ,\"anuncio.area_total\" ,\n",
        "                   \"anuncio.area_util\" ,\"anuncio.quartos\", \"anuncio.suites\", \"anuncio.banheiros\", \"anuncio.vaga\",\n",
        "                   \"anuncio.caracteristicas\", \"anuncio.andar\", \"anuncio.endereco\", \"anuncio.valores\")\n",
        "df=df.drop(\"anuncio\")\n",
        "df.show()"
      ],
      "metadata": {
        "colab": {
          "base_uri": "https://localhost:8080/"
        },
        "id": "kDcgsPpiHpaf",
        "outputId": "2c4affc1-0106-47fb-bc20-2f39126296eb"
      },
      "execution_count": null,
      "outputs": [
        {
          "output_type": "stream",
          "name": "stdout",
          "text": [
            "+--------------------+------------+------------+-----------+----------+---------+-------+------+---------+----+--------------------+-----+--------------------+--------------------+\n",
            "|                  id|tipo_anuncio|tipo_unidade|   tipo_uso|area_total|area_util|quartos|suites|banheiros|vaga|     caracteristicas|andar|            endereco|             valores|\n",
            "+--------------------+------------+------------+-----------+----------+---------+-------+------+---------+----+--------------------+-----+--------------------+--------------------+\n",
            "|47d553e0-79f2-4a4...|       Usado|      Outros|  Comercial|        []|     [16]|    [0]|   [0]|      [0]| [1]|                  []|    0|{Centro, 20061003...|[{260, 107, Venda...|\n",
            "|b6ffbae1-17f6-487...|       Usado|      Outros|  Comercial|        []|     [14]|    [0]|    []|      [0]| [0]|                  []|    0|{Centro, 20051040...|[{260, 107, Venda...|\n",
            "|1fb030a5-9e3e-4a1...|       Usado|      Outros|  Comercial|    [1026]|   [1026]|    [0]|    []|      [0]| [0]|                  []|    0|{Maria da Graça, ...|[{null, 1613, Ven...|\n",
            "|ac6cb348-69d6-45a...|       Usado|      Outros|Residencial|     [120]|    [120]|    [0]|    []|      [0]|  []|[Portão eletrônic...|    0|{Campo Grande, 23...|[{80, null, Venda...|\n",
            "|e032b908-ef42-4d4...|       Usado|      Outros|Residencial|       [3]|      [3]|    [0]|    []|      [0]|  []|                  []|    0|{São Cristóvão, 2...|[{0, 0, Venda, 50...|\n",
            "|df9cf0b8-b972-433...|       Usado|      Outros|  Comercial|      [20]|     [15]|    [0]|    []|      [1]| [1]|                  []|    0|{Centro, 20231047...|[{223, 87, Venda,...|\n",
            "|d2e3a3aa-09b5-45a...|       Usado| Apartamento|Residencial|      [43]|     [43]|    [2]|    []|      [1]| [1]|[Academia, Churra...|    3|{Paciência, 23585...|[{245, null, Vend...|\n",
            "|085bab2c-87ad-452...|       Usado| Apartamento|Residencial|      [42]|     [42]|    [2]|    []|      [1]| [1]|[Churrasqueira, P...|    2|{Paciência, 23585...|[{0, 0, Venda, 15...|\n",
            "|096ad966-dc36-47b...|       Usado|      Outros|  Comercial|        []|     [12]|    [0]|    []|      [0]| [1]|[Portaria 24h, El...|    0|{Centro, 20231047...|[{250, null, Vend...|\n",
            "|18d22cbe-1b86-476...|       Usado| Apartamento|Residencial|      [41]|     [41]|    [2]|    []|      [1]| [1]|[Portaria 24h, Co...|    1|{Guaratiba, 23036...|[{0, 0, Venda, 20...|\n",
            "|bed8a354-9317-442...|       Usado| Apartamento|Residencial|      [43]|     [43]|    [2]|    []|      [1]| [0]|[Churrasqueira, P...|    3|{Cosmos, 23066271...|[{285, null, Vend...|\n",
            "|b7d0fbd3-0b28-420...|       Usado|      Outros|  Comercial|      [10]|      [4]|    [0]|    []|      [0]| [0]|[Elevador, Portar...|    0|{Centro, 20080021...|[{200, 86, Venda,...|\n",
            "|c6571c11-166e-4a4...|       Usado|      Outros|  Comercial|      [12]|     [12]|    [0]|    []|      [1]|  []|      [Portaria 24h]|    0|{Copacabana, 2202...|[{470, null, Vend...|\n",
            "|46d5b560-205f-45f...|       Usado|      Outros|  Comercial|      [17]|     [17]|    [0]|    []|      [0]| [1]|          [Elevador]|    0|{Centro, 20070021...|[{294, 98, Venda,...|\n",
            "|db197997-00e6-4d6...|       Usado|      Outros|  Comercial|      [32]|     [32]|     []|    []|       []| [1]|[Elevador, Condom...|    1|{Centro, 20090020...|[{684, null, Vend...|\n",
            "|835d4338-4aa9-4e4...|       Usado|      Outros|  Comercial|        []|     [10]|    [0]|    []|      [0]|  []|[Elevador, Condom...|    0|{Saúde, 20080040,...|[{0, 120, Venda, ...|\n",
            "|12a13315-d67f-48f...|       Usado| Apartamento|Residencial|      [43]|     [43]|    [2]|    []|      [1]| [1]|[Academia, Churra...|    2|{Guaratiba, 23036...|[{245, null, Vend...|\n",
            "|a2e6d7a5-0ff0-484...|       Usado| Apartamento|Residencial|      [43]|     [43]|    [2]|   [0]|      [1]| [0]|[Churrasqueira, P...|    3|{Cosmos, 23066271...|[{285, null, Vend...|\n",
            "|a6e3173b-c950-4db...|       Usado| Apartamento|Residencial|      [43]|     [43]|    [2]|    []|      [1]| [1]|[Churrasqueira, P...|    3|{Paciência, 23585...|[{250, null, Vend...|\n",
            "|2e6e5dfb-206c-496...|       Usado| Apartamento|Residencial|      [43]|     [43]|    [2]|   [0]|      [1]| [1]|[Churrasqueira, P...|    3|{Guaratiba, 23036...|[{245, null, Vend...|\n",
            "+--------------------+------------+------------+-----------+----------+---------+-------+------+---------+----+--------------------+-----+--------------------+--------------------+\n",
            "only showing top 20 rows\n",
            "\n"
          ]
        }
      ]
    },
    {
      "cell_type": "markdown",
      "source": [
        "Convetendo colunas númericas para inteiro "
      ],
      "metadata": {
        "id": "rROQ8ziVRjeM"
      }
    },
    {
      "cell_type": "code",
      "source": [
        "from pyspark.sql.types import IntegerType\n",
        "df=df.withColumn('area_total', df['area_total'][0].cast(IntegerType()))\n",
        "df=df.withColumn('area_util', df['area_util'][0].cast(IntegerType()))\n",
        "df=df.withColumn('quartos', df['quartos'][0].cast(IntegerType()))\n",
        "df=df.withColumn('suites', df['suites'][0].cast(IntegerType()))\n",
        "df=df.withColumn('banheiros', df['banheiros'][0].cast(IntegerType()))\n",
        "df=df.withColumn('vaga', df['vaga'][0].cast(IntegerType()))\n",
        "df=df.withColumn('andar', df['andar'].cast(IntegerType()))\n",
        "df.show()\n",
        "df.printSchema()"
      ],
      "metadata": {
        "colab": {
          "base_uri": "https://localhost:8080/"
        },
        "id": "1Hlct0hxQoV2",
        "outputId": "c1a9b239-6c43-463d-b2c5-31fbcc546761"
      },
      "execution_count": null,
      "outputs": [
        {
          "output_type": "stream",
          "name": "stdout",
          "text": [
            "+--------------------+------------+------------+-----------+----------+---------+-------+------+---------+----+--------------------+-----+--------------------+--------------------+\n",
            "|                  id|tipo_anuncio|tipo_unidade|   tipo_uso|area_total|area_util|quartos|suites|banheiros|vaga|     caracteristicas|andar|            endereco|             valores|\n",
            "+--------------------+------------+------------+-----------+----------+---------+-------+------+---------+----+--------------------+-----+--------------------+--------------------+\n",
            "|47d553e0-79f2-4a4...|       Usado|      Outros|  Comercial|      null|       16|      0|     0|        0|   1|                  []|    0|{Centro, 20061003...|[{260, 107, Venda...|\n",
            "|b6ffbae1-17f6-487...|       Usado|      Outros|  Comercial|      null|       14|      0|  null|        0|   0|                  []|    0|{Centro, 20051040...|[{260, 107, Venda...|\n",
            "|1fb030a5-9e3e-4a1...|       Usado|      Outros|  Comercial|      1026|     1026|      0|  null|        0|   0|                  []|    0|{Maria da Graça, ...|[{null, 1613, Ven...|\n",
            "|ac6cb348-69d6-45a...|       Usado|      Outros|Residencial|       120|      120|      0|  null|        0|null|[Portão eletrônic...|    0|{Campo Grande, 23...|[{80, null, Venda...|\n",
            "|e032b908-ef42-4d4...|       Usado|      Outros|Residencial|         3|        3|      0|  null|        0|null|                  []|    0|{São Cristóvão, 2...|[{0, 0, Venda, 50...|\n",
            "|df9cf0b8-b972-433...|       Usado|      Outros|  Comercial|        20|       15|      0|  null|        1|   1|                  []|    0|{Centro, 20231047...|[{223, 87, Venda,...|\n",
            "|d2e3a3aa-09b5-45a...|       Usado| Apartamento|Residencial|        43|       43|      2|  null|        1|   1|[Academia, Churra...|    3|{Paciência, 23585...|[{245, null, Vend...|\n",
            "|085bab2c-87ad-452...|       Usado| Apartamento|Residencial|        42|       42|      2|  null|        1|   1|[Churrasqueira, P...|    2|{Paciência, 23585...|[{0, 0, Venda, 15...|\n",
            "|096ad966-dc36-47b...|       Usado|      Outros|  Comercial|      null|       12|      0|  null|        0|   1|[Portaria 24h, El...|    0|{Centro, 20231047...|[{250, null, Vend...|\n",
            "|18d22cbe-1b86-476...|       Usado| Apartamento|Residencial|        41|       41|      2|  null|        1|   1|[Portaria 24h, Co...|    1|{Guaratiba, 23036...|[{0, 0, Venda, 20...|\n",
            "|bed8a354-9317-442...|       Usado| Apartamento|Residencial|        43|       43|      2|  null|        1|   0|[Churrasqueira, P...|    3|{Cosmos, 23066271...|[{285, null, Vend...|\n",
            "|b7d0fbd3-0b28-420...|       Usado|      Outros|  Comercial|        10|        4|      0|  null|        0|   0|[Elevador, Portar...|    0|{Centro, 20080021...|[{200, 86, Venda,...|\n",
            "|c6571c11-166e-4a4...|       Usado|      Outros|  Comercial|        12|       12|      0|  null|        1|null|      [Portaria 24h]|    0|{Copacabana, 2202...|[{470, null, Vend...|\n",
            "|46d5b560-205f-45f...|       Usado|      Outros|  Comercial|        17|       17|      0|  null|        0|   1|          [Elevador]|    0|{Centro, 20070021...|[{294, 98, Venda,...|\n",
            "|db197997-00e6-4d6...|       Usado|      Outros|  Comercial|        32|       32|   null|  null|     null|   1|[Elevador, Condom...|    1|{Centro, 20090020...|[{684, null, Vend...|\n",
            "|835d4338-4aa9-4e4...|       Usado|      Outros|  Comercial|      null|       10|      0|  null|        0|null|[Elevador, Condom...|    0|{Saúde, 20080040,...|[{0, 120, Venda, ...|\n",
            "|12a13315-d67f-48f...|       Usado| Apartamento|Residencial|        43|       43|      2|  null|        1|   1|[Academia, Churra...|    2|{Guaratiba, 23036...|[{245, null, Vend...|\n",
            "|a2e6d7a5-0ff0-484...|       Usado| Apartamento|Residencial|        43|       43|      2|     0|        1|   0|[Churrasqueira, P...|    3|{Cosmos, 23066271...|[{285, null, Vend...|\n",
            "|a6e3173b-c950-4db...|       Usado| Apartamento|Residencial|        43|       43|      2|  null|        1|   1|[Churrasqueira, P...|    3|{Paciência, 23585...|[{250, null, Vend...|\n",
            "|2e6e5dfb-206c-496...|       Usado| Apartamento|Residencial|        43|       43|      2|     0|        1|   1|[Churrasqueira, P...|    3|{Guaratiba, 23036...|[{245, null, Vend...|\n",
            "+--------------------+------------+------------+-----------+----------+---------+-------+------+---------+----+--------------------+-----+--------------------+--------------------+\n",
            "only showing top 20 rows\n",
            "\n",
            "root\n",
            " |-- id: string (nullable = true)\n",
            " |-- tipo_anuncio: string (nullable = true)\n",
            " |-- tipo_unidade: string (nullable = true)\n",
            " |-- tipo_uso: string (nullable = true)\n",
            " |-- area_total: integer (nullable = true)\n",
            " |-- area_util: integer (nullable = true)\n",
            " |-- quartos: integer (nullable = true)\n",
            " |-- suites: integer (nullable = true)\n",
            " |-- banheiros: integer (nullable = true)\n",
            " |-- vaga: integer (nullable = true)\n",
            " |-- caracteristicas: array (nullable = true)\n",
            " |    |-- element: string (containsNull = true)\n",
            " |-- andar: integer (nullable = true)\n",
            " |-- endereco: struct (nullable = true)\n",
            " |    |-- bairro: string (nullable = true)\n",
            " |    |-- cep: string (nullable = true)\n",
            " |    |-- cidade: string (nullable = true)\n",
            " |    |-- estado: string (nullable = true)\n",
            " |    |-- latitude: double (nullable = true)\n",
            " |    |-- longitude: double (nullable = true)\n",
            " |    |-- pais: string (nullable = true)\n",
            " |    |-- rua: string (nullable = true)\n",
            " |    |-- zona: string (nullable = true)\n",
            " |-- valores: array (nullable = true)\n",
            " |    |-- element: struct (containsNull = true)\n",
            " |    |    |-- condominio: string (nullable = true)\n",
            " |    |    |-- iptu: string (nullable = true)\n",
            " |    |    |-- tipo: string (nullable = true)\n",
            " |    |    |-- valor: string (nullable = true)\n",
            "\n"
          ]
        }
      ]
    },
    {
      "cell_type": "markdown",
      "source": [
        "### Filtrando as linhas de interesse"
      ],
      "metadata": {
        "id": "gaAVqoZnfwKJ"
      }
    },
    {
      "cell_type": "markdown",
      "source": [
        "Filtrando os anúncios com as seguintes restrições\n",
        "*   tipo_uso: Residencial;\n",
        "*   tipo_unidade: Apartamento;\n",
        "*   tipo_anuncio: Usado\n",
        "\n"
      ],
      "metadata": {
        "id": "YJFzcvQJgGfV"
      }
    },
    {
      "cell_type": "markdown",
      "source": [
        "Criando tabelas de frequências para analisar o impactos desses filtros aplicados"
      ],
      "metadata": {
        "id": "v46UeHbegjIt"
      }
    },
    {
      "cell_type": "code",
      "source": [
        "from pyspark.sql.functions import count\n",
        "df.select('tipo_uso', 'id').groupBy('tipo_uso').agg(count(\"id\").alias(\"frequencia\")).orderBy('frequencia', ascending=True).show() \n",
        "df.select('tipo_unidade', 'id').groupBy('tipo_unidade').agg(count(\"id\").alias(\"frequencia\")).orderBy('frequencia', ascending=True).show() \n",
        "df.select('tipo_anuncio', 'id').groupBy('tipo_anuncio').agg(count(\"id\").alias(\"frequencia\")).orderBy('frequencia', ascending=True).show() \n"
      ],
      "metadata": {
        "colab": {
          "base_uri": "https://localhost:8080/"
        },
        "id": "nyNKzz3wfEkG",
        "outputId": "bc9fa5f9-b44c-4b24-855a-cc145e819028"
      },
      "execution_count": null,
      "outputs": [
        {
          "output_type": "stream",
          "name": "stdout",
          "text": [
            "+-----------+----------+\n",
            "|   tipo_uso|frequencia|\n",
            "+-----------+----------+\n",
            "|  Comercial|      4542|\n",
            "|Residencial|     84541|\n",
            "+-----------+----------+\n",
            "\n",
            "+------------+----------+\n",
            "|tipo_unidade|frequencia|\n",
            "+------------+----------+\n",
            "|        Casa|     10319|\n",
            "|      Outros|     11963|\n",
            "| Apartamento|     66801|\n",
            "+------------+----------+\n",
            "\n",
            "+------------+----------+\n",
            "|tipo_anuncio|frequencia|\n",
            "+------------+----------+\n",
            "|  Lançamento|       256|\n",
            "|       Usado|     88827|\n",
            "+------------+----------+\n",
            "\n"
          ]
        }
      ]
    },
    {
      "cell_type": "code",
      "source": [
        "df_filted=df.where(\"tipo_unidade=='Apartamento' and tipo_uso=='Residencial' and tipo_anuncio=='Usado' \")"
      ],
      "metadata": {
        "id": "UGuKPWyGmSHI"
      },
      "execution_count": null,
      "outputs": []
    },
    {
      "cell_type": "code",
      "source": [
        "print('Foram filtrados',round(df_filted.count()/df.count()*100),'% dos dados') "
      ],
      "metadata": {
        "colab": {
          "base_uri": "https://localhost:8080/"
        },
        "id": "xVM-dqLFm2Wa",
        "outputId": "3affc26d-9b4b-43c3-db14-3068035cf4f3"
      },
      "execution_count": null,
      "outputs": [
        {
          "output_type": "stream",
          "name": "stdout",
          "text": [
            "Foram filtrados 75 % dos dados\n"
          ]
        }
      ]
    },
    {
      "cell_type": "markdown",
      "source": [
        "### Realizando mais alguns tratamentos de dados"
      ],
      "metadata": {
        "id": "sApRcliXoSzt"
      }
    },
    {
      "cell_type": "markdown",
      "source": [
        "A coluna valores contém variáveis tipo array com informações sobre valores de condominio, iptu, tipo e valor. Vamos separar em colunas: "
      ],
      "metadata": {
        "id": "ijmpegQ_ohDn"
      }
    },
    {
      "cell_type": "code",
      "source": [
        "df_filted_2=df_filted.withColumn('valores', df['valores'][0])#Passando para um struct\n",
        "df_filted_2= df_filted_2.select('*',\"valores.tipo\" ,\"valores.iptu\",\"valores.condominio\" ,\"valores.valor\" )#Criando as colunas\n",
        "df_filted_2=df_filted_2.withColumn('valor', df_filted_2['valor'].cast(IntegerType()))\n",
        "df_filted_2=df_filted_2.withColumn('condominio', df_filted_2['condominio'].cast(IntegerType()))\n",
        "df_filted_2=df_filted_2.withColumn('iptu', df_filted_2['iptu'].cast(IntegerType()))\n",
        "df_filted_2=df_filted_2.drop(\"valores\")\n",
        "df_filted_2.printSchema()"
      ],
      "metadata": {
        "colab": {
          "base_uri": "https://localhost:8080/"
        },
        "id": "FgOONfnyoZBD",
        "outputId": "26f5aa54-4fa9-4d82-9521-25939eb456db"
      },
      "execution_count": null,
      "outputs": [
        {
          "output_type": "stream",
          "name": "stdout",
          "text": [
            "root\n",
            " |-- id: string (nullable = true)\n",
            " |-- tipo_anuncio: string (nullable = true)\n",
            " |-- tipo_unidade: string (nullable = true)\n",
            " |-- tipo_uso: string (nullable = true)\n",
            " |-- area_total: integer (nullable = true)\n",
            " |-- area_util: integer (nullable = true)\n",
            " |-- quartos: integer (nullable = true)\n",
            " |-- suites: integer (nullable = true)\n",
            " |-- banheiros: integer (nullable = true)\n",
            " |-- vaga: integer (nullable = true)\n",
            " |-- caracteristicas: array (nullable = true)\n",
            " |    |-- element: string (containsNull = true)\n",
            " |-- andar: integer (nullable = true)\n",
            " |-- endereco: struct (nullable = true)\n",
            " |    |-- bairro: string (nullable = true)\n",
            " |    |-- cep: string (nullable = true)\n",
            " |    |-- cidade: string (nullable = true)\n",
            " |    |-- estado: string (nullable = true)\n",
            " |    |-- latitude: double (nullable = true)\n",
            " |    |-- longitude: double (nullable = true)\n",
            " |    |-- pais: string (nullable = true)\n",
            " |    |-- rua: string (nullable = true)\n",
            " |    |-- zona: string (nullable = true)\n",
            " |-- tipo: string (nullable = true)\n",
            " |-- iptu: integer (nullable = true)\n",
            " |-- condominio: integer (nullable = true)\n",
            " |-- valor: integer (nullable = true)\n",
            "\n"
          ]
        }
      ]
    },
    {
      "cell_type": "markdown",
      "source": [
        "### Salvando os dados em formato parquet"
      ],
      "metadata": {
        "id": "6Gl48Kxru4oA"
      }
    },
    {
      "cell_type": "code",
      "source": [
        "df_filted_2.write.parquet(\n",
        "    path='/content/dados/parquet',\n",
        "    mode='overwrite'\n",
        ")"
      ],
      "metadata": {
        "id": "d53PMmiXu_gc"
      },
      "execution_count": null,
      "outputs": []
    },
    {
      "cell_type": "code",
      "source": [
        "dados_parquet = spark.read.parquet(\n",
        "    '/content/dados/parquet'\n",
        ")"
      ],
      "metadata": {
        "id": "uSgZUnB0vWLK"
      },
      "execution_count": null,
      "outputs": []
    },
    {
      "cell_type": "code",
      "source": [
        "dados_parquet.printSchema()"
      ],
      "metadata": {
        "colab": {
          "base_uri": "https://localhost:8080/"
        },
        "id": "2rXH3oPwvboS",
        "outputId": "f14b9a8f-42e7-4d8d-c26f-9bbbc72fe276"
      },
      "execution_count": null,
      "outputs": [
        {
          "output_type": "stream",
          "name": "stdout",
          "text": [
            "root\n",
            " |-- id: string (nullable = true)\n",
            " |-- tipo_anuncio: string (nullable = true)\n",
            " |-- tipo_unidade: string (nullable = true)\n",
            " |-- tipo_uso: string (nullable = true)\n",
            " |-- area_total: integer (nullable = true)\n",
            " |-- area_util: integer (nullable = true)\n",
            " |-- quartos: integer (nullable = true)\n",
            " |-- suites: integer (nullable = true)\n",
            " |-- banheiros: integer (nullable = true)\n",
            " |-- vaga: integer (nullable = true)\n",
            " |-- caracteristicas: array (nullable = true)\n",
            " |    |-- element: string (containsNull = true)\n",
            " |-- andar: integer (nullable = true)\n",
            " |-- endereco: struct (nullable = true)\n",
            " |    |-- bairro: string (nullable = true)\n",
            " |    |-- cep: string (nullable = true)\n",
            " |    |-- cidade: string (nullable = true)\n",
            " |    |-- estado: string (nullable = true)\n",
            " |    |-- latitude: double (nullable = true)\n",
            " |    |-- longitude: double (nullable = true)\n",
            " |    |-- pais: string (nullable = true)\n",
            " |    |-- rua: string (nullable = true)\n",
            " |    |-- zona: string (nullable = true)\n",
            " |-- tipo: string (nullable = true)\n",
            " |-- iptu: integer (nullable = true)\n",
            " |-- condominio: integer (nullable = true)\n",
            " |-- valor: integer (nullable = true)\n",
            "\n"
          ]
        }
      ]
    },
    {
      "cell_type": "code",
      "source": [
        "df_filted_2.write.parquet(\n",
        "    path='/content/drive/MyDrive/MF App/parquet',\n",
        "    mode='overwrite'\n",
        ")"
      ],
      "metadata": {
        "id": "TU49wcbtwaAt"
      },
      "execution_count": null,
      "outputs": []
    }
  ]
}